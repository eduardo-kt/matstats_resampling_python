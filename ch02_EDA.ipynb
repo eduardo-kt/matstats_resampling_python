{
 "cells": [
  {
   "cell_type": "markdown",
   "metadata": {},
   "source": [
    "# bibliotecas"
   ]
  },
  {
   "cell_type": "code",
   "execution_count": 40,
   "metadata": {},
   "outputs": [],
   "source": [
    "import pandas as pd\n",
    "import numpy as np\n",
    "import matplotlib.pyplot as plt\n",
    "from scipy import stats\n",
    "import researchpy as rp"
   ]
  },
  {
   "cell_type": "markdown",
   "metadata": {},
   "source": [
    "# dados"
   ]
  },
  {
   "cell_type": "markdown",
   "metadata": {},
   "source": [
    "* FlightDelays.csv\n"
   ]
  },
  {
   "cell_type": "code",
   "execution_count": 2,
   "metadata": {},
   "outputs": [
    {
     "data": {
      "text/html": [
       "<div>\n",
       "<style scoped>\n",
       "    .dataframe tbody tr th:only-of-type {\n",
       "        vertical-align: middle;\n",
       "    }\n",
       "\n",
       "    .dataframe tbody tr th {\n",
       "        vertical-align: top;\n",
       "    }\n",
       "\n",
       "    .dataframe thead th {\n",
       "        text-align: right;\n",
       "    }\n",
       "</style>\n",
       "<table border=\"1\" class=\"dataframe\">\n",
       "  <thead>\n",
       "    <tr style=\"text-align: right;\">\n",
       "      <th></th>\n",
       "      <th>ID</th>\n",
       "      <th>Carrier</th>\n",
       "      <th>FlightNo</th>\n",
       "      <th>Destination</th>\n",
       "      <th>DepartTime</th>\n",
       "      <th>Day</th>\n",
       "      <th>Month</th>\n",
       "      <th>FlightLength</th>\n",
       "      <th>Delay</th>\n",
       "      <th>Delayed30</th>\n",
       "    </tr>\n",
       "  </thead>\n",
       "  <tbody>\n",
       "    <tr>\n",
       "      <th>0</th>\n",
       "      <td>1</td>\n",
       "      <td>UA</td>\n",
       "      <td>403</td>\n",
       "      <td>DEN</td>\n",
       "      <td>4-8am</td>\n",
       "      <td>Fri</td>\n",
       "      <td>May</td>\n",
       "      <td>281</td>\n",
       "      <td>-1</td>\n",
       "      <td>No</td>\n",
       "    </tr>\n",
       "    <tr>\n",
       "      <th>1</th>\n",
       "      <td>2</td>\n",
       "      <td>UA</td>\n",
       "      <td>405</td>\n",
       "      <td>DEN</td>\n",
       "      <td>8-Noon</td>\n",
       "      <td>Fri</td>\n",
       "      <td>May</td>\n",
       "      <td>277</td>\n",
       "      <td>102</td>\n",
       "      <td>Yes</td>\n",
       "    </tr>\n",
       "    <tr>\n",
       "      <th>2</th>\n",
       "      <td>3</td>\n",
       "      <td>UA</td>\n",
       "      <td>409</td>\n",
       "      <td>DEN</td>\n",
       "      <td>4-8pm</td>\n",
       "      <td>Fri</td>\n",
       "      <td>May</td>\n",
       "      <td>279</td>\n",
       "      <td>4</td>\n",
       "      <td>No</td>\n",
       "    </tr>\n",
       "    <tr>\n",
       "      <th>3</th>\n",
       "      <td>4</td>\n",
       "      <td>UA</td>\n",
       "      <td>511</td>\n",
       "      <td>ORD</td>\n",
       "      <td>8-Noon</td>\n",
       "      <td>Fri</td>\n",
       "      <td>May</td>\n",
       "      <td>158</td>\n",
       "      <td>-2</td>\n",
       "      <td>No</td>\n",
       "    </tr>\n",
       "    <tr>\n",
       "      <th>4</th>\n",
       "      <td>5</td>\n",
       "      <td>UA</td>\n",
       "      <td>667</td>\n",
       "      <td>ORD</td>\n",
       "      <td>4-8am</td>\n",
       "      <td>Fri</td>\n",
       "      <td>May</td>\n",
       "      <td>143</td>\n",
       "      <td>-3</td>\n",
       "      <td>No</td>\n",
       "    </tr>\n",
       "  </tbody>\n",
       "</table>\n",
       "</div>"
      ],
      "text/plain": [
       "   ID Carrier  FlightNo Destination DepartTime  Day Month  FlightLength  \\\n",
       "0   1      UA       403         DEN      4-8am  Fri   May           281   \n",
       "1   2      UA       405         DEN     8-Noon  Fri   May           277   \n",
       "2   3      UA       409         DEN      4-8pm  Fri   May           279   \n",
       "3   4      UA       511         ORD     8-Noon  Fri   May           158   \n",
       "4   5      UA       667         ORD      4-8am  Fri   May           143   \n",
       "\n",
       "   Delay Delayed30  \n",
       "0     -1        No  \n",
       "1    102       Yes  \n",
       "2      4        No  \n",
       "3     -2        No  \n",
       "4     -3        No  "
      ]
     },
     "execution_count": 2,
     "metadata": {},
     "output_type": "execute_result"
    }
   ],
   "source": [
    "flightdelays = pd.read_csv(filepath_or_buffer=\"rawdata\\FlightDelays.csv\")\n",
    "\n",
    "flightdelays.head()"
   ]
  },
  {
   "cell_type": "markdown",
   "metadata": {},
   "source": [
    "## Crosstab"
   ]
  },
  {
   "cell_type": "code",
   "execution_count": 3,
   "metadata": {},
   "outputs": [
    {
     "data": {
      "text/html": [
       "<div>\n",
       "<style scoped>\n",
       "    .dataframe tbody tr th:only-of-type {\n",
       "        vertical-align: middle;\n",
       "    }\n",
       "\n",
       "    .dataframe tbody tr th {\n",
       "        vertical-align: top;\n",
       "    }\n",
       "\n",
       "    .dataframe thead th {\n",
       "        text-align: right;\n",
       "    }\n",
       "</style>\n",
       "<table border=\"1\" class=\"dataframe\">\n",
       "  <thead>\n",
       "    <tr style=\"text-align: right;\">\n",
       "      <th>Delayed30</th>\n",
       "      <th>No</th>\n",
       "      <th>Yes</th>\n",
       "    </tr>\n",
       "    <tr>\n",
       "      <th>Carrier</th>\n",
       "      <th></th>\n",
       "      <th></th>\n",
       "    </tr>\n",
       "  </thead>\n",
       "  <tbody>\n",
       "    <tr>\n",
       "      <th>AA</th>\n",
       "      <td>2513</td>\n",
       "      <td>393</td>\n",
       "    </tr>\n",
       "    <tr>\n",
       "      <th>UA</th>\n",
       "      <td>919</td>\n",
       "      <td>204</td>\n",
       "    </tr>\n",
       "  </tbody>\n",
       "</table>\n",
       "</div>"
      ],
      "text/plain": [
       "Delayed30    No  Yes\n",
       "Carrier             \n",
       "AA         2513  393\n",
       "UA          919  204"
      ]
     },
     "execution_count": 3,
     "metadata": {},
     "output_type": "execute_result"
    }
   ],
   "source": [
    "# Contagem de dados cruzados\n",
    "\n",
    "carriers = pd.crosstab(flightdelays['Carrier'], flightdelays['Delayed30'])\n",
    "carriers "
   ]
  },
  {
   "cell_type": "markdown",
   "metadata": {},
   "source": [
    "## Bar plot"
   ]
  },
  {
   "cell_type": "code",
   "execution_count": 10,
   "metadata": {},
   "outputs": [
    {
     "data": {
      "image/png": "[encoded data removed]",
      "text/plain": [
       "<Figure size 640x480 with 1 Axes>"
      ]
     },
     "metadata": {},
     "output_type": "display_data"
    }
   ],
   "source": [
    "# Barplot\n",
    "\n",
    "carriers.plot(kind=\"bar\", stacked= True, color=[\"#0899a5\",\"#f7665a\"], alpha= 0.7) # ou colormap=\n",
    "plt.title(\"Vôos do Aeroporto de LaGuardia (LGA-NY) 2008\")\n",
    "plt.ylabel(\"Número de vôos\")\n",
    "plt.xlabel(\"Companhias Aéreas\")\n",
    "plt.show()\n"
   ]
  },
  {
   "cell_type": "markdown",
   "metadata": {},
   "source": [
    "## Crosstab (%)"
   ]
  },
  {
   "cell_type": "code",
   "execution_count": 5,
   "metadata": {},
   "outputs": [
    {
     "data": {
      "text/html": [
       "<div>\n",
       "<style scoped>\n",
       "    .dataframe tbody tr th:only-of-type {\n",
       "        vertical-align: middle;\n",
       "    }\n",
       "\n",
       "    .dataframe tbody tr th {\n",
       "        vertical-align: top;\n",
       "    }\n",
       "\n",
       "    .dataframe thead th {\n",
       "        text-align: right;\n",
       "    }\n",
       "</style>\n",
       "<table border=\"1\" class=\"dataframe\">\n",
       "  <thead>\n",
       "    <tr style=\"text-align: right;\">\n",
       "      <th>Delayed30</th>\n",
       "      <th>No</th>\n",
       "      <th>Yes</th>\n",
       "    </tr>\n",
       "    <tr>\n",
       "      <th>Carrier</th>\n",
       "      <th></th>\n",
       "      <th></th>\n",
       "    </tr>\n",
       "  </thead>\n",
       "  <tbody>\n",
       "    <tr>\n",
       "      <th>AA</th>\n",
       "      <td>86.48%</td>\n",
       "      <td>13.52%</td>\n",
       "    </tr>\n",
       "    <tr>\n",
       "      <th>UA</th>\n",
       "      <td>81.83%</td>\n",
       "      <td>18.17%</td>\n",
       "    </tr>\n",
       "  </tbody>\n",
       "</table>\n",
       "</div>"
      ],
      "text/plain": [
       "Delayed30      No     Yes\n",
       "Carrier                  \n",
       "AA         86.48%  13.52%\n",
       "UA         81.83%  18.17%"
      ]
     },
     "execution_count": 5,
     "metadata": {},
     "output_type": "execute_result"
    }
   ],
   "source": [
    "# Cruzamento de dados (percentual)\n",
    "\n",
    "def percent_contingency(data, col1, col2, type):\n",
    "    cont_table = pd.crosstab(data[col1], data[col2], normalize= type) * 100\n",
    "    return cont_table.map(lambda x: f'{x:.2f}%')\n",
    "\n",
    "percent_contingency(flightdelays, 'Carrier','Delayed30',\"index\")"
   ]
  },
  {
   "cell_type": "markdown",
   "metadata": {},
   "source": [
    "## Histograma"
   ]
  },
  {
   "cell_type": "code",
   "execution_count": 6,
   "metadata": {},
   "outputs": [
    {
     "data": {
      "text/plain": [
       "Delay\n",
       "(-50, 0]      722\n",
       "(0, 50]       249\n",
       "(50, 100]      86\n",
       "(100, 150]     39\n",
       "(150, 200]     14\n",
       "(200, 250]      7\n",
       "(250, 300]      3\n",
       "(300, 350]      2\n",
       "Name: count, dtype: int64"
      ]
     },
     "execution_count": 6,
     "metadata": {},
     "output_type": "execute_result"
    }
   ],
   "source": [
    "# distribuição dos atrasos da united airlines (UA) por classe\n",
    "\n",
    "ua_delays = flightdelays.loc[flightdelays['Carrier']=='UA','Delay']\n",
    "\n",
    "bins = range(-50,400,50)\n",
    "\n",
    "ua_delays_hist_data = pd.cut(x= ua_delays, bins= bins).value_counts()\n",
    "\n",
    "ua_delays_hist_data"
   ]
  },
  {
   "cell_type": "code",
   "execution_count": 7,
   "metadata": {},
   "outputs": [
    {
     "data": {
      "image/png": "[encoded data removed]",
      "text/plain": [
       "<Figure size 640x480 with 1 Axes>"
      ]
     },
     "metadata": {},
     "output_type": "display_data"
    }
   ],
   "source": [
    "# Histograma\n",
    " \n",
    "plt.hist(ua_delays, bins=bins, edgecolor = \"black\", rwidth=0.95, alpha = 0.7)\n",
    "plt.title(\"Atrasos nos vôos da United Airlines (LGA-NY 2008)\")\n",
    "plt.ylabel(\"Frequência\")\n",
    "plt.xlabel(\"Tempo (min)\")\n",
    "\n",
    "plt.show()"
   ]
  },
  {
   "cell_type": "markdown",
   "metadata": {},
   "source": [
    "### dot plot"
   ]
  },
  {
   "cell_type": "code",
   "execution_count": null,
   "metadata": {},
   "outputs": [],
   "source": []
  },
  {
   "cell_type": "markdown",
   "metadata": {},
   "source": [
    "# Numeric Summaries"
   ]
  },
  {
   "cell_type": "markdown",
   "metadata": {},
   "source": [
    "## Média e mediana"
   ]
  },
  {
   "cell_type": "code",
   "execution_count": 32,
   "metadata": {},
   "outputs": [
    {
     "data": {
      "text/plain": [
       "mean      15.983081\n",
       "median    -1.000000\n",
       "Name: Delay, dtype: float64"
      ]
     },
     "execution_count": 32,
     "metadata": {},
     "output_type": "execute_result"
    }
   ],
   "source": [
    "ua_delays.agg(['mean','median'], axis='index')"
   ]
  },
  {
   "cell_type": "markdown",
   "metadata": {},
   "source": [
    "## Trimmed mean"
   ]
  },
  {
   "cell_type": "code",
   "execution_count": 33,
   "metadata": {},
   "outputs": [
    {
     "data": {
      "text/plain": [
       "7.833333333333333"
      ]
     },
     "execution_count": 33,
     "metadata": {},
     "output_type": "execute_result"
    }
   ],
   "source": [
    "ex2_1 = [1,3,3,4,4,7,8,10,14,21,21,26]\n",
    "stats.trim_mean(ex2_1,proportiontocut=0.25) # em scipy.stats"
   ]
  },
  {
   "cell_type": "markdown",
   "metadata": {},
   "source": [
    "## Summary statistics\n"
   ]
  },
  {
   "cell_type": "code",
   "execution_count": 44,
   "metadata": {},
   "outputs": [
    {
     "data": {
      "text/html": [
       "<div>\n",
       "<style scoped>\n",
       "    .dataframe tbody tr th:only-of-type {\n",
       "        vertical-align: middle;\n",
       "    }\n",
       "\n",
       "    .dataframe tbody tr th {\n",
       "        vertical-align: top;\n",
       "    }\n",
       "\n",
       "    .dataframe thead th {\n",
       "        text-align: right;\n",
       "    }\n",
       "</style>\n",
       "<table border=\"1\" class=\"dataframe\">\n",
       "  <thead>\n",
       "    <tr style=\"text-align: right;\">\n",
       "      <th></th>\n",
       "      <th>Gender</th>\n",
       "      <th>Age</th>\n",
       "      <th>Age25</th>\n",
       "      <th>Race</th>\n",
       "      <th>Offense</th>\n",
       "      <th>Recid</th>\n",
       "      <th>Type</th>\n",
       "      <th>Days</th>\n",
       "    </tr>\n",
       "  </thead>\n",
       "  <tbody>\n",
       "    <tr>\n",
       "      <th>0</th>\n",
       "      <td>M</td>\n",
       "      <td>Under 25</td>\n",
       "      <td>Under 25</td>\n",
       "      <td>White-NonHispanic</td>\n",
       "      <td>Felony</td>\n",
       "      <td>Yes</td>\n",
       "      <td>Tech</td>\n",
       "      <td>16.0</td>\n",
       "    </tr>\n",
       "    <tr>\n",
       "      <th>1</th>\n",
       "      <td>M</td>\n",
       "      <td>55 and Older</td>\n",
       "      <td>Over 25</td>\n",
       "      <td>White-NonHispanic</td>\n",
       "      <td>Felony</td>\n",
       "      <td>Yes</td>\n",
       "      <td>Tech</td>\n",
       "      <td>19.0</td>\n",
       "    </tr>\n",
       "    <tr>\n",
       "      <th>2</th>\n",
       "      <td>M</td>\n",
       "      <td>25-34</td>\n",
       "      <td>Over 25</td>\n",
       "      <td>White-NonHispanic</td>\n",
       "      <td>Felony</td>\n",
       "      <td>Yes</td>\n",
       "      <td>Tech</td>\n",
       "      <td>22.0</td>\n",
       "    </tr>\n",
       "    <tr>\n",
       "      <th>3</th>\n",
       "      <td>M</td>\n",
       "      <td>55 and Older</td>\n",
       "      <td>Over 25</td>\n",
       "      <td>White-NonHispanic</td>\n",
       "      <td>Felony</td>\n",
       "      <td>Yes</td>\n",
       "      <td>Tech</td>\n",
       "      <td>25.0</td>\n",
       "    </tr>\n",
       "    <tr>\n",
       "      <th>4</th>\n",
       "      <td>M</td>\n",
       "      <td>25-34</td>\n",
       "      <td>Over 25</td>\n",
       "      <td>Black-NonHispanic</td>\n",
       "      <td>Felony</td>\n",
       "      <td>Yes</td>\n",
       "      <td>Tech</td>\n",
       "      <td>26.0</td>\n",
       "    </tr>\n",
       "  </tbody>\n",
       "</table>\n",
       "</div>"
      ],
      "text/plain": [
       "  Gender           Age     Age25               Race Offense Recid  Type  Days\n",
       "0      M      Under 25  Under 25  White-NonHispanic  Felony   Yes  Tech  16.0\n",
       "1      M  55 and Older   Over 25  White-NonHispanic  Felony   Yes  Tech  19.0\n",
       "2      M         25-34   Over 25  White-NonHispanic  Felony   Yes  Tech  22.0\n",
       "3      M  55 and Older   Over 25  White-NonHispanic  Felony   Yes  Tech  25.0\n",
       "4      M         25-34   Over 25  Black-NonHispanic  Felony   Yes  Tech  26.0"
      ]
     },
     "execution_count": 44,
     "metadata": {},
     "output_type": "execute_result"
    }
   ],
   "source": [
    "recidivism = pd.read_csv(filepath_or_buffer='rawdata\\Recidivism.csv')\n",
    "recidivism.head()"
   ]
  },
  {
   "cell_type": "code",
   "execution_count": 46,
   "metadata": {},
   "outputs": [
    {
     "data": {
      "text/html": [
       "<div>\n",
       "<style scoped>\n",
       "    .dataframe tbody tr th:only-of-type {\n",
       "        vertical-align: middle;\n",
       "    }\n",
       "\n",
       "    .dataframe tbody tr th {\n",
       "        vertical-align: top;\n",
       "    }\n",
       "\n",
       "    .dataframe thead th {\n",
       "        text-align: right;\n",
       "    }\n",
       "</style>\n",
       "<table border=\"1\" class=\"dataframe\">\n",
       "  <thead>\n",
       "    <tr style=\"text-align: right;\">\n",
       "      <th></th>\n",
       "      <th>Name</th>\n",
       "      <th>N</th>\n",
       "      <th>Mean</th>\n",
       "      <th>Median</th>\n",
       "      <th>Variance</th>\n",
       "      <th>SD</th>\n",
       "      <th>SE</th>\n",
       "      <th>95% Conf. Interval</th>\n",
       "      <th>Min</th>\n",
       "      <th>Max</th>\n",
       "      <th>Range</th>\n",
       "      <th>Kurtosis</th>\n",
       "      <th>Skew</th>\n",
       "    </tr>\n",
       "  </thead>\n",
       "  <tbody>\n",
       "    <tr>\n",
       "      <th>0</th>\n",
       "      <td>Days</td>\n",
       "      <td>5386</td>\n",
       "      <td>473.33</td>\n",
       "      <td>418.0</td>\n",
       "      <td>80167.88</td>\n",
       "      <td>283.14</td>\n",
       "      <td>3.86</td>\n",
       "      <td>[465.76, 480.89]</td>\n",
       "      <td>0.0</td>\n",
       "      <td>1095.0</td>\n",
       "      <td>1095.0</td>\n",
       "      <td>2.16</td>\n",
       "      <td>0.46</td>\n",
       "    </tr>\n",
       "  </tbody>\n",
       "</table>\n",
       "</div>"
      ],
      "text/plain": [
       "   Name     N    Mean Median  Variance      SD    SE 95% Conf. Interval  Min  \\\n",
       "0  Days  5386  473.33  418.0  80167.88  283.14  3.86   [465.76, 480.89]  0.0   \n",
       "\n",
       "      Max   Range Kurtosis  Skew  \n",
       "0  1095.0  1095.0     2.16  0.46  "
      ]
     },
     "execution_count": 46,
     "metadata": {},
     "output_type": "execute_result"
    }
   ],
   "source": [
    "rp.summarize(data= recidivism['Days'], stats= [\"N\", \"Mean\", \"Median\", \"Variance\", \"SD\", \"SE\", \"CI\", 'Min', 'Max', 'Range', \"Kurtosis\", \"Skew\"], decimals=2)"
   ]
  },
  {
   "cell_type": "markdown",
   "metadata": {},
   "source": [
    "## Sumário descritivo das informações do Dataframe"
   ]
  },
  {
   "cell_type": "code",
   "execution_count": 48,
   "metadata": {},
   "outputs": [
    {
     "name": "stdout",
     "output_type": "stream",
     "text": [
      "Variable: Gender    Data Type: object \n",
      "\n",
      " Number of Obs.: 17022 \n",
      " Number of missing obs.: 3 \n",
      " Percent missing: 0.02 \n",
      " Number of unique values: 2 \n",
      "\n",
      " Data Values and Counts: \n",
      " \n",
      " Values  Frequency\n",
      "     F       2101\n",
      "     M      14918\n",
      "\n",
      "\n",
      "\n",
      "\n",
      "Variable: Age    Data Type: object \n",
      "\n",
      " Number of Obs.: 17022 \n",
      " Number of missing obs.: 3 \n",
      " Percent missing: 0.02 \n",
      " Number of unique values: 5 \n",
      "\n",
      " Data Values and Counts: \n",
      " \n",
      "       Values  Frequency\n",
      "       25-34       6227\n",
      "       35-44       4035\n",
      "       45-54       2872\n",
      "55 and Older        808\n",
      "    Under 25       3077\n",
      "\n",
      "\n",
      "\n",
      "\n",
      "Variable: Age25    Data Type: object \n",
      "\n",
      " Number of Obs.: 17022 \n",
      " Number of missing obs.: 3 \n",
      " Percent missing: 0.02 \n",
      " Number of unique values: 2 \n",
      "\n",
      " Data Values and Counts: \n",
      " \n",
      "   Values  Frequency\n",
      " Over 25      13942\n",
      "Under 25       3077\n",
      "\n",
      "\n",
      "\n",
      "\n",
      "Variable: Race    Data Type: object \n",
      "\n",
      " Number of Obs.: 17022 \n",
      " Number of missing obs.: 34 \n",
      " Percent missing: 0.2 \n",
      " Number of unique values: 10 \n",
      "\n",
      " Data Values and Counts: \n",
      " \n",
      "                                       Values  Frequency\n",
      "   American Indian or Alaska Native-Hispanic         14\n",
      "American Indian or Alaska Native-NonHispanic        317\n",
      "          Asian or Pacific Islander-Hispanic          2\n",
      "       Asian or Pacific Islander-NonHispanic        126\n",
      "                                       Black          2\n",
      "                              Black-Hispanic         26\n",
      "                           Black-NonHispanic       4072\n",
      "                                       White         11\n",
      "                              White-Hispanic       1030\n",
      "                           White-NonHispanic      11388\n",
      "\n",
      "\n",
      "\n",
      "\n",
      "Variable: Offense    Data Type: object \n",
      "\n",
      " Number of Obs.: 17022 \n",
      " Number of missing obs.: 0 \n",
      " Percent missing: 0.0 \n",
      " Number of unique values: 2 \n",
      "\n",
      " Data Values and Counts: \n",
      " \n",
      "      Values  Frequency\n",
      "     Felony      13720\n",
      "Misdemeanor       3302\n",
      "\n",
      "\n",
      "\n",
      "\n",
      "Variable: Recid    Data Type: object \n",
      "\n",
      " Number of Obs.: 17022 \n",
      " Number of missing obs.: 0 \n",
      " Percent missing: 0.0 \n",
      " Number of unique values: 2 \n",
      "\n",
      " Data Values and Counts: \n",
      " \n",
      " Values  Frequency\n",
      "    No      11636\n",
      "   Yes       5386\n",
      "\n",
      "\n",
      "\n",
      "\n",
      "Variable: Type    Data Type: object \n",
      "\n",
      " Number of Obs.: 17022 \n",
      " Number of missing obs.: 0 \n",
      " Percent missing: 0.0 \n",
      " Number of unique values: 3 \n",
      "\n",
      " Data Values and Counts: \n",
      " \n",
      "        Values  Frequency\n",
      "          New       3437\n",
      "No Recidivism      11636\n",
      "         Tech       1949\n",
      "\n",
      "\n",
      "\n",
      "\n",
      "Variable: Days    Data Type: float64 \n",
      "\n",
      " Number of Obs.: 17022 \n",
      " Number of missing obs.: 11636 \n",
      " Percent missing: 68.36 \n",
      " Number of unique values: 1053 \n",
      "\n",
      " Range: [0.0, 1095.0] \n",
      " Mean: 473.33 \n",
      " Standard Deviation: 283.14 \n",
      " Mode: 287.0 \n",
      " 10th Percentile: 134.0 \n",
      " 25th Percentile: 241.0 \n",
      " 50th Percentile: 418.0 \n",
      " 75th Percentile: 687.0 \n",
      " 90th Percentile: 909.0 \n",
      "\n",
      "\n",
      "\n",
      "\n",
      "\n"
     ]
    }
   ],
   "source": [
    "rp.codebook(recidivism)"
   ]
  },
  {
   "cell_type": "markdown",
   "metadata": {},
   "source": [
    "## Boxplot"
   ]
  },
  {
   "cell_type": "code",
   "execution_count": 99,
   "metadata": {},
   "outputs": [
    {
     "data": {
      "text/html": [
       "<div>\n",
       "<style scoped>\n",
       "    .dataframe tbody tr th:only-of-type {\n",
       "        vertical-align: middle;\n",
       "    }\n",
       "\n",
       "    .dataframe tbody tr th {\n",
       "        vertical-align: top;\n",
       "    }\n",
       "\n",
       "    .dataframe thead th {\n",
       "        text-align: right;\n",
       "    }\n",
       "</style>\n",
       "<table border=\"1\" class=\"dataframe\">\n",
       "  <thead>\n",
       "    <tr style=\"text-align: right;\">\n",
       "      <th></th>\n",
       "      <th>ID</th>\n",
       "      <th>Carrier</th>\n",
       "      <th>FlightNo</th>\n",
       "      <th>Destination</th>\n",
       "      <th>DepartTime</th>\n",
       "      <th>Day</th>\n",
       "      <th>Month</th>\n",
       "      <th>FlightLength</th>\n",
       "      <th>Delay</th>\n",
       "      <th>Delayed30</th>\n",
       "    </tr>\n",
       "  </thead>\n",
       "  <tbody>\n",
       "    <tr>\n",
       "      <th>0</th>\n",
       "      <td>1</td>\n",
       "      <td>UA</td>\n",
       "      <td>403</td>\n",
       "      <td>DEN</td>\n",
       "      <td>4-8am</td>\n",
       "      <td>Fri</td>\n",
       "      <td>May</td>\n",
       "      <td>281</td>\n",
       "      <td>-1</td>\n",
       "      <td>No</td>\n",
       "    </tr>\n",
       "    <tr>\n",
       "      <th>1</th>\n",
       "      <td>2</td>\n",
       "      <td>UA</td>\n",
       "      <td>405</td>\n",
       "      <td>DEN</td>\n",
       "      <td>8-Noon</td>\n",
       "      <td>Fri</td>\n",
       "      <td>May</td>\n",
       "      <td>277</td>\n",
       "      <td>102</td>\n",
       "      <td>Yes</td>\n",
       "    </tr>\n",
       "    <tr>\n",
       "      <th>2</th>\n",
       "      <td>3</td>\n",
       "      <td>UA</td>\n",
       "      <td>409</td>\n",
       "      <td>DEN</td>\n",
       "      <td>4-8pm</td>\n",
       "      <td>Fri</td>\n",
       "      <td>May</td>\n",
       "      <td>279</td>\n",
       "      <td>4</td>\n",
       "      <td>No</td>\n",
       "    </tr>\n",
       "    <tr>\n",
       "      <th>3</th>\n",
       "      <td>4</td>\n",
       "      <td>UA</td>\n",
       "      <td>511</td>\n",
       "      <td>ORD</td>\n",
       "      <td>8-Noon</td>\n",
       "      <td>Fri</td>\n",
       "      <td>May</td>\n",
       "      <td>158</td>\n",
       "      <td>-2</td>\n",
       "      <td>No</td>\n",
       "    </tr>\n",
       "    <tr>\n",
       "      <th>4</th>\n",
       "      <td>5</td>\n",
       "      <td>UA</td>\n",
       "      <td>667</td>\n",
       "      <td>ORD</td>\n",
       "      <td>4-8am</td>\n",
       "      <td>Fri</td>\n",
       "      <td>May</td>\n",
       "      <td>143</td>\n",
       "      <td>-3</td>\n",
       "      <td>No</td>\n",
       "    </tr>\n",
       "  </tbody>\n",
       "</table>\n",
       "</div>"
      ],
      "text/plain": [
       "   ID Carrier  FlightNo Destination DepartTime  Day Month  FlightLength  \\\n",
       "0   1      UA       403         DEN      4-8am  Fri   May           281   \n",
       "1   2      UA       405         DEN     8-Noon  Fri   May           277   \n",
       "2   3      UA       409         DEN      4-8pm  Fri   May           279   \n",
       "3   4      UA       511         ORD     8-Noon  Fri   May           158   \n",
       "4   5      UA       667         ORD      4-8am  Fri   May           143   \n",
       "\n",
       "   Delay Delayed30  \n",
       "0     -1        No  \n",
       "1    102       Yes  \n",
       "2      4        No  \n",
       "3     -2        No  \n",
       "4     -3        No  "
      ]
     },
     "execution_count": 99,
     "metadata": {},
     "output_type": "execute_result"
    }
   ],
   "source": [
    "ua_flights = flightdelays.loc[flightdelays['Carrier']=='UA',:]\n",
    "ua_flights.head()"
   ]
  },
  {
   "cell_type": "code",
   "execution_count": 100,
   "metadata": {},
   "outputs": [
    {
     "data": {
      "image/png": "[encoded data removed]",
      "text/plain": [
       "<Figure size 640x440 with 1 Axes>"
      ]
     },
     "metadata": {},
     "output_type": "display_data"
    }
   ],
   "source": [
    "# consulte estilos em plt.style.available\n",
    "plt.style.use('seaborn-v0_8')\n",
    "ua_flights.boxplot(column='FlightLength', by= 'Day')\n",
    "plt.show()"
   ]
  },
  {
   "cell_type": "markdown",
   "metadata": {},
   "source": [
    "## Quantiles and Normal quantile plots\n",
    "\n",
    "pag 39"
   ]
  },
  {
   "cell_type": "code",
   "execution_count": null,
   "metadata": {},
   "outputs": [],
   "source": []
  }
 ],
 "metadata": {
  "kernelspec": {
   "display_name": "Python 3",
   "language": "python",
   "name": "python3"
  },
  "language_info": {
   "codemirror_mode": {
    "name": "ipython",
    "version": 3
   },
   "file_extension": ".py",
   "mimetype": "text/x-python",
   "name": "python",
   "nbconvert_exporter": "python",
   "pygments_lexer": "ipython3",
   "version": "3.11.7"
  }
 },
 "nbformat": 4,
 "nbformat_minor": 2
}
