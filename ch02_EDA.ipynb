{
 "cells": [
  {
   "cell_type": "markdown",
   "metadata": {},
   "source": [
    "# bibliotecas"
   ]
  },
  {
   "cell_type": "code",
   "execution_count": 1,
   "metadata": {},
   "outputs": [],
   "source": [
    "import pandas as pd\n",
    "import numpy as np\n",
    "import matplotlib.pyplot as plt\n",
    "from scipy import stats\n",
    "import researchpy as rp\n",
    "import plotly.express as px\n",
    "import plotly.graph_objects as go\n",
    "import seaborn as sns"
   ]
  },
  {
   "cell_type": "markdown",
   "metadata": {},
   "source": [
    "# dados"
   ]
  },
  {
   "cell_type": "markdown",
   "metadata": {},
   "source": [
    "* FlightDelays.csv\n"
   ]
  },
  {
   "cell_type": "code",
   "execution_count": 2,
   "metadata": {},
   "outputs": [
    {
     "data": {
      "text/html": [
       "<div>\n",
       "<style scoped>\n",
       "    .dataframe tbody tr th:only-of-type {\n",
       "        vertical-align: middle;\n",
       "    }\n",
       "\n",
       "    .dataframe tbody tr th {\n",
       "        vertical-align: top;\n",
       "    }\n",
       "\n",
       "    .dataframe thead th {\n",
       "        text-align: right;\n",
       "    }\n",
       "</style>\n",
       "<table border=\"1\" class=\"dataframe\">\n",
       "  <thead>\n",
       "    <tr style=\"text-align: right;\">\n",
       "      <th></th>\n",
       "      <th>ID</th>\n",
       "      <th>Carrier</th>\n",
       "      <th>FlightNo</th>\n",
       "      <th>Destination</th>\n",
       "      <th>DepartTime</th>\n",
       "      <th>Day</th>\n",
       "      <th>Month</th>\n",
       "      <th>FlightLength</th>\n",
       "      <th>Delay</th>\n",
       "      <th>Delayed30</th>\n",
       "    </tr>\n",
       "  </thead>\n",
       "  <tbody>\n",
       "    <tr>\n",
       "      <th>0</th>\n",
       "      <td>1</td>\n",
       "      <td>UA</td>\n",
       "      <td>403</td>\n",
       "      <td>DEN</td>\n",
       "      <td>4-8am</td>\n",
       "      <td>Fri</td>\n",
       "      <td>May</td>\n",
       "      <td>281</td>\n",
       "      <td>-1</td>\n",
       "      <td>No</td>\n",
       "    </tr>\n",
       "    <tr>\n",
       "      <th>1</th>\n",
       "      <td>2</td>\n",
       "      <td>UA</td>\n",
       "      <td>405</td>\n",
       "      <td>DEN</td>\n",
       "      <td>8-Noon</td>\n",
       "      <td>Fri</td>\n",
       "      <td>May</td>\n",
       "      <td>277</td>\n",
       "      <td>102</td>\n",
       "      <td>Yes</td>\n",
       "    </tr>\n",
       "    <tr>\n",
       "      <th>2</th>\n",
       "      <td>3</td>\n",
       "      <td>UA</td>\n",
       "      <td>409</td>\n",
       "      <td>DEN</td>\n",
       "      <td>4-8pm</td>\n",
       "      <td>Fri</td>\n",
       "      <td>May</td>\n",
       "      <td>279</td>\n",
       "      <td>4</td>\n",
       "      <td>No</td>\n",
       "    </tr>\n",
       "    <tr>\n",
       "      <th>3</th>\n",
       "      <td>4</td>\n",
       "      <td>UA</td>\n",
       "      <td>511</td>\n",
       "      <td>ORD</td>\n",
       "      <td>8-Noon</td>\n",
       "      <td>Fri</td>\n",
       "      <td>May</td>\n",
       "      <td>158</td>\n",
       "      <td>-2</td>\n",
       "      <td>No</td>\n",
       "    </tr>\n",
       "    <tr>\n",
       "      <th>4</th>\n",
       "      <td>5</td>\n",
       "      <td>UA</td>\n",
       "      <td>667</td>\n",
       "      <td>ORD</td>\n",
       "      <td>4-8am</td>\n",
       "      <td>Fri</td>\n",
       "      <td>May</td>\n",
       "      <td>143</td>\n",
       "      <td>-3</td>\n",
       "      <td>No</td>\n",
       "    </tr>\n",
       "  </tbody>\n",
       "</table>\n",
       "</div>"
      ],
      "text/plain": [
       "   ID Carrier  FlightNo Destination DepartTime  Day Month  FlightLength  \\\n",
       "0   1      UA       403         DEN      4-8am  Fri   May           281   \n",
       "1   2      UA       405         DEN     8-Noon  Fri   May           277   \n",
       "2   3      UA       409         DEN      4-8pm  Fri   May           279   \n",
       "3   4      UA       511         ORD     8-Noon  Fri   May           158   \n",
       "4   5      UA       667         ORD      4-8am  Fri   May           143   \n",
       "\n",
       "   Delay Delayed30  \n",
       "0     -1        No  \n",
       "1    102       Yes  \n",
       "2      4        No  \n",
       "3     -2        No  \n",
       "4     -3        No  "
      ]
     },
     "execution_count": 2,
     "metadata": {},
     "output_type": "execute_result"
    }
   ],
   "source": [
    "flightdelays = pd.read_csv(filepath_or_buffer=\"rawdata\\FlightDelays.csv\")\n",
    "\n",
    "flightdelays.head()"
   ]
  },
  {
   "cell_type": "markdown",
   "metadata": {},
   "source": [
    "## Crosstab"
   ]
  },
  {
   "cell_type": "code",
   "execution_count": 3,
   "metadata": {},
   "outputs": [
    {
     "data": {
      "text/html": [
       "<div>\n",
       "<style scoped>\n",
       "    .dataframe tbody tr th:only-of-type {\n",
       "        vertical-align: middle;\n",
       "    }\n",
       "\n",
       "    .dataframe tbody tr th {\n",
       "        vertical-align: top;\n",
       "    }\n",
       "\n",
       "    .dataframe thead th {\n",
       "        text-align: right;\n",
       "    }\n",
       "</style>\n",
       "<table border=\"1\" class=\"dataframe\">\n",
       "  <thead>\n",
       "    <tr style=\"text-align: right;\">\n",
       "      <th>Delayed30</th>\n",
       "      <th>No</th>\n",
       "      <th>Yes</th>\n",
       "    </tr>\n",
       "    <tr>\n",
       "      <th>Carrier</th>\n",
       "      <th></th>\n",
       "      <th></th>\n",
       "    </tr>\n",
       "  </thead>\n",
       "  <tbody>\n",
       "    <tr>\n",
       "      <th>AA</th>\n",
       "      <td>2513</td>\n",
       "      <td>393</td>\n",
       "    </tr>\n",
       "    <tr>\n",
       "      <th>UA</th>\n",
       "      <td>919</td>\n",
       "      <td>204</td>\n",
       "    </tr>\n",
       "  </tbody>\n",
       "</table>\n",
       "</div>"
      ],
      "text/plain": [
       "Delayed30    No  Yes\n",
       "Carrier             \n",
       "AA         2513  393\n",
       "UA          919  204"
      ]
     },
     "execution_count": 3,
     "metadata": {},
     "output_type": "execute_result"
    }
   ],
   "source": [
    "# Contagem de dados cruzados\n",
    "\n",
    "carriers = pd.crosstab(flightdelays['Carrier'], flightdelays['Delayed30'])\n",
    "carriers "
   ]
  },
  {
   "cell_type": "markdown",
   "metadata": {},
   "source": [
    "## Bar plot"
   ]
  },
  {
   "cell_type": "code",
   "execution_count": 4,
   "metadata": {},
   "outputs": [
    {
     "data": {
      "image/png": "[encoded data removed]",
      "text/plain": [
       "<Figure size 640x480 with 1 Axes>"
      ]
     },
     "metadata": {},
     "output_type": "display_data"
    }
   ],
   "source": [
    "# Barplot matplotlib\n",
    "\n",
    "carriers.plot(kind=\"bar\", stacked= True, color=[\"#0899a5\",\"#f7665a\"], alpha= 0.7) # ou colormap=\n",
    "plt.title(\"Vôos do Aeroporto de LaGuardia (LGA-NY) 2008\")\n",
    "plt.ylabel(\"Número de vôos\")\n",
    "plt.xlabel(\"Companhias Aéreas\")\n",
    "plt.show()\n"
   ]
  },
  {
   "cell_type": "markdown",
   "metadata": {},
   "source": [
    "## Barplot seaborn"
   ]
  },
  {
   "cell_type": "markdown",
   "metadata": {},
   "source": [
    "## Barplot interativo plotly"
   ]
  },
  {
   "cell_type": "code",
   "execution_count": 5,
   "metadata": {},
   "outputs": [
    {
     "data": {
      "text/html": [
       "<div>\n",
       "<style scoped>\n",
       "    .dataframe tbody tr th:only-of-type {\n",
       "        vertical-align: middle;\n",
       "    }\n",
       "\n",
       "    .dataframe tbody tr th {\n",
       "        vertical-align: top;\n",
       "    }\n",
       "\n",
       "    .dataframe thead th {\n",
       "        text-align: right;\n",
       "    }\n",
       "</style>\n",
       "<table border=\"1\" class=\"dataframe\">\n",
       "  <thead>\n",
       "    <tr style=\"text-align: right;\">\n",
       "      <th>Delayed30</th>\n",
       "      <th>Carrier</th>\n",
       "      <th>No</th>\n",
       "      <th>Yes</th>\n",
       "    </tr>\n",
       "  </thead>\n",
       "  <tbody>\n",
       "    <tr>\n",
       "      <th>0</th>\n",
       "      <td>AA</td>\n",
       "      <td>2513</td>\n",
       "      <td>393</td>\n",
       "    </tr>\n",
       "    <tr>\n",
       "      <th>1</th>\n",
       "      <td>UA</td>\n",
       "      <td>919</td>\n",
       "      <td>204</td>\n",
       "    </tr>\n",
       "  </tbody>\n",
       "</table>\n",
       "</div>"
      ],
      "text/plain": [
       "Delayed30 Carrier    No  Yes\n",
       "0              AA  2513  393\n",
       "1              UA   919  204"
      ]
     },
     "execution_count": 5,
     "metadata": {},
     "output_type": "execute_result"
    }
   ],
   "source": [
    "carriers_no_index = carriers.reset_index()\n",
    "carriers_no_index"
   ]
  },
  {
   "cell_type": "code",
   "execution_count": 6,
   "metadata": {},
   "outputs": [
    {
     "name": "stderr",
     "output_type": "stream",
     "text": [
      "c:\\Users\\eduar\\OneDrive\\Documentos\\eBookLibrary\\chihara_2018\\.conda\\Lib\\site-packages\\plotly\\express\\_core.py:2065: FutureWarning: When grouping with a length-1 list-like, you will need to pass a length-1 tuple to get_group in a future version of pandas. Pass `(name,)` instead of `name` to silence this warning.\n",
      "  sf: grouped.get_group(s if len(s) > 1 else s[0])\n"
     ]
    },
    {
     "data": {
      "application/vnd.plotly.v1+json": {
       "config": {
        "plotlyServerURL": "https://plot.ly"
       },
       "data": [
        {
         "alignmentgroup": "True",
         "hovertemplate": "variable=No<br>Carrier=%{x}<br>value=%{y}<extra></extra>",
         "legendgroup": "No",
         "marker": {
          "color": "#0899a5",
          "opacity": 0.7,
          "pattern": {
           "shape": ""
          }
         },
         "name": "No",
         "offsetgroup": "No",
         "orientation": "v",
         "showlegend": true,
         "textposition": "auto",
         "type": "bar",
         "x": [
          "AA",
          "UA"
         ],
         "xaxis": "x",
         "y": [
          2513,
          919
         ],
         "yaxis": "y"
        },
        {
         "alignmentgroup": "True",
         "hovertemplate": "variable=Yes<br>Carrier=%{x}<br>value=%{y}<extra></extra>",
         "legendgroup": "Yes",
         "marker": {
          "color": "#f7665a",
          "opacity": 0.7,
          "pattern": {
           "shape": ""
          }
         },
         "name": "Yes",
         "offsetgroup": "Yes",
         "orientation": "v",
         "showlegend": true,
         "textposition": "auto",
         "type": "bar",
         "x": [
          "AA",
          "UA"
         ],
         "xaxis": "x",
         "y": [
          393,
          204
         ],
         "yaxis": "y"
        }
       ],
       "layout": {
        "barmode": "relative",
        "legend": {
         "title": {
          "text": "variable"
         },
         "tracegroupgap": 0
        },
        "margin": {
         "t": 60
        },
        "template": {
         "data": {
          "bar": [
           {
            "error_x": {
             "color": "#2a3f5f"
            },
            "error_y": {
             "color": "#2a3f5f"
            },
            "marker": {
             "line": {
              "color": "white",
              "width": 0.5
             },
             "pattern": {
              "fillmode": "overlay",
              "size": 10,
              "solidity": 0.2
             }
            },
            "type": "bar"
           }
          ],
          "barpolar": [
           {
            "marker": {
             "line": {
              "color": "white",
              "width": 0.5
             },
             "pattern": {
              "fillmode": "overlay",
              "size": 10,
              "solidity": 0.2
             }
            },
            "type": "barpolar"
           }
          ],
          "carpet": [
           {
            "aaxis": {
             "endlinecolor": "#2a3f5f",
             "gridcolor": "#C8D4E3",
             "linecolor": "#C8D4E3",
             "minorgridcolor": "#C8D4E3",
             "startlinecolor": "#2a3f5f"
            },
            "baxis": {
             "endlinecolor": "#2a3f5f",
             "gridcolor": "#C8D4E3",
             "linecolor": "#C8D4E3",
             "minorgridcolor": "#C8D4E3",
             "startlinecolor": "#2a3f5f"
            },
            "type": "carpet"
           }
          ],
          "choropleth": [
           {
            "colorbar": {
             "outlinewidth": 0,
             "ticks": ""
            },
            "type": "choropleth"
           }
          ],
          "contour": [
           {
            "colorbar": {
             "outlinewidth": 0,
             "ticks": ""
            },
            "colorscale": [
             [
              0,
              "#0d0887"
             ],
             [
              0.1111111111111111,
              "#46039f"
             ],
             [
              0.2222222222222222,
              "#7201a8"
             ],
             [
              0.3333333333333333,
              "#9c179e"
             ],
             [
              0.4444444444444444,
              "#bd3786"
             ],
             [
              0.5555555555555556,
              "#d8576b"
             ],
             [
              0.6666666666666666,
              "#ed7953"
             ],
             [
              0.7777777777777778,
              "#fb9f3a"
             ],
             [
              0.8888888888888888,
              "#fdca26"
             ],
             [
              1,
              "#f0f921"
             ]
            ],
            "type": "contour"
           }
          ],
          "contourcarpet": [
           {
            "colorbar": {
             "outlinewidth": 0,
             "ticks": ""
            },
            "type": "contourcarpet"
           }
          ],
          "heatmap": [
           {
            "colorbar": {
             "outlinewidth": 0,
             "ticks": ""
            },
            "colorscale": [
             [
              0,
              "#0d0887"
             ],
             [
              0.1111111111111111,
              "#46039f"
             ],
             [
              0.2222222222222222,
              "#7201a8"
             ],
             [
              0.3333333333333333,
              "#9c179e"
             ],
             [
              0.4444444444444444,
              "#bd3786"
             ],
             [
              0.5555555555555556,
              "#d8576b"
             ],
             [
              0.6666666666666666,
              "#ed7953"
             ],
             [
              0.7777777777777778,
              "#fb9f3a"
             ],
             [
              0.8888888888888888,
              "#fdca26"
             ],
             [
              1,
              "#f0f921"
             ]
            ],
            "type": "heatmap"
           }
          ],
          "heatmapgl": [
           {
            "colorbar": {
             "outlinewidth": 0,
             "ticks": ""
            },
            "colorscale": [
             [
              0,
              "#0d0887"
             ],
             [
              0.1111111111111111,
              "#46039f"
             ],
             [
              0.2222222222222222,
              "#7201a8"
             ],
             [
              0.3333333333333333,
              "#9c179e"
             ],
             [
              0.4444444444444444,
              "#bd3786"
             ],
             [
              0.5555555555555556,
              "#d8576b"
             ],
             [
              0.6666666666666666,
              "#ed7953"
             ],
             [
              0.7777777777777778,
              "#fb9f3a"
             ],
             [
              0.8888888888888888,
              "#fdca26"
             ],
             [
              1,
              "#f0f921"
             ]
            ],
            "type": "heatmapgl"
           }
          ],
          "histogram": [
           {
            "marker": {
             "pattern": {
              "fillmode": "overlay",
              "size": 10,
              "solidity": 0.2
             }
            },
            "type": "histogram"
           }
          ],
          "histogram2d": [
           {
            "colorbar": {
             "outlinewidth": 0,
             "ticks": ""
            },
            "colorscale": [
             [
              0,
              "#0d0887"
             ],
             [
              0.1111111111111111,
              "#46039f"
             ],
             [
              0.2222222222222222,
              "#7201a8"
             ],
             [
              0.3333333333333333,
              "#9c179e"
             ],
             [
              0.4444444444444444,
              "#bd3786"
             ],
             [
              0.5555555555555556,
              "#d8576b"
             ],
             [
              0.6666666666666666,
              "#ed7953"
             ],
             [
              0.7777777777777778,
              "#fb9f3a"
             ],
             [
              0.8888888888888888,
              "#fdca26"
             ],
             [
              1,
              "#f0f921"
             ]
            ],
            "type": "histogram2d"
           }
          ],
          "histogram2dcontour": [
           {
            "colorbar": {
             "outlinewidth": 0,
             "ticks": ""
            },
            "colorscale": [
             [
              0,
              "#0d0887"
             ],
             [
              0.1111111111111111,
              "#46039f"
             ],
             [
              0.2222222222222222,
              "#7201a8"
             ],
             [
              0.3333333333333333,
              "#9c179e"
             ],
             [
              0.4444444444444444,
              "#bd3786"
             ],
             [
              0.5555555555555556,
              "#d8576b"
             ],
             [
              0.6666666666666666,
              "#ed7953"
             ],
             [
              0.7777777777777778,
              "#fb9f3a"
             ],
             [
              0.8888888888888888,
              "#fdca26"
             ],
             [
              1,
              "#f0f921"
             ]
            ],
            "type": "histogram2dcontour"
           }
          ],
          "mesh3d": [
           {
            "colorbar": {
             "outlinewidth": 0,
             "ticks": ""
            },
            "type": "mesh3d"
           }
          ],
          "parcoords": [
           {
            "line": {
             "colorbar": {
              "outlinewidth": 0,
              "ticks": ""
             }
            },
            "type": "parcoords"
           }
          ],
          "pie": [
           {
            "automargin": true,
            "type": "pie"
           }
          ],
          "scatter": [
           {
            "fillpattern": {
             "fillmode": "overlay",
             "size": 10,
             "solidity": 0.2
            },
            "type": "scatter"
           }
          ],
          "scatter3d": [
           {
            "line": {
             "colorbar": {
              "outlinewidth": 0,
              "ticks": ""
             }
            },
            "marker": {
             "colorbar": {
              "outlinewidth": 0,
              "ticks": ""
             }
            },
            "type": "scatter3d"
           }
          ],
          "scattercarpet": [
           {
            "marker": {
             "colorbar": {
              "outlinewidth": 0,
              "ticks": ""
             }
            },
            "type": "scattercarpet"
           }
          ],
          "scattergeo": [
           {
            "marker": {
             "colorbar": {
              "outlinewidth": 0,
              "ticks": ""
             }
            },
            "type": "scattergeo"
           }
          ],
          "scattergl": [
           {
            "marker": {
             "colorbar": {
              "outlinewidth": 0,
              "ticks": ""
             }
            },
            "type": "scattergl"
           }
          ],
          "scattermapbox": [
           {
            "marker": {
             "colorbar": {
              "outlinewidth": 0,
              "ticks": ""
             }
            },
            "type": "scattermapbox"
           }
          ],
          "scatterpolar": [
           {
            "marker": {
             "colorbar": {
              "outlinewidth": 0,
              "ticks": ""
             }
            },
            "type": "scatterpolar"
           }
          ],
          "scatterpolargl": [
           {
            "marker": {
             "colorbar": {
              "outlinewidth": 0,
              "ticks": ""
             }
            },
            "type": "scatterpolargl"
           }
          ],
          "scatterternary": [
           {
            "marker": {
             "colorbar": {
              "outlinewidth": 0,
              "ticks": ""
             }
            },
            "type": "scatterternary"
           }
          ],
          "surface": [
           {
            "colorbar": {
             "outlinewidth": 0,
             "ticks": ""
            },
            "colorscale": [
             [
              0,
              "#0d0887"
             ],
             [
              0.1111111111111111,
              "#46039f"
             ],
             [
              0.2222222222222222,
              "#7201a8"
             ],
             [
              0.3333333333333333,
              "#9c179e"
             ],
             [
              0.4444444444444444,
              "#bd3786"
             ],
             [
              0.5555555555555556,
              "#d8576b"
             ],
             [
              0.6666666666666666,
              "#ed7953"
             ],
             [
              0.7777777777777778,
              "#fb9f3a"
             ],
             [
              0.8888888888888888,
              "#fdca26"
             ],
             [
              1,
              "#f0f921"
             ]
            ],
            "type": "surface"
           }
          ],
          "table": [
           {
            "cells": {
             "fill": {
              "color": "#EBF0F8"
             },
             "line": {
              "color": "white"
             }
            },
            "header": {
             "fill": {
              "color": "#C8D4E3"
             },
             "line": {
              "color": "white"
             }
            },
            "type": "table"
           }
          ]
         },
         "layout": {
          "annotationdefaults": {
           "arrowcolor": "#2a3f5f",
           "arrowhead": 0,
           "arrowwidth": 1
          },
          "autotypenumbers": "strict",
          "coloraxis": {
           "colorbar": {
            "outlinewidth": 0,
            "ticks": ""
           }
          },
          "colorscale": {
           "diverging": [
            [
             0,
             "#8e0152"
            ],
            [
             0.1,
             "#c51b7d"
            ],
            [
             0.2,
             "#de77ae"
            ],
            [
             0.3,
             "#f1b6da"
            ],
            [
             0.4,
             "#fde0ef"
            ],
            [
             0.5,
             "#f7f7f7"
            ],
            [
             0.6,
             "#e6f5d0"
            ],
            [
             0.7,
             "#b8e186"
            ],
            [
             0.8,
             "#7fbc41"
            ],
            [
             0.9,
             "#4d9221"
            ],
            [
             1,
             "#276419"
            ]
           ],
           "sequential": [
            [
             0,
             "#0d0887"
            ],
            [
             0.1111111111111111,
             "#46039f"
            ],
            [
             0.2222222222222222,
             "#7201a8"
            ],
            [
             0.3333333333333333,
             "#9c179e"
            ],
            [
             0.4444444444444444,
             "#bd3786"
            ],
            [
             0.5555555555555556,
             "#d8576b"
            ],
            [
             0.6666666666666666,
             "#ed7953"
            ],
            [
             0.7777777777777778,
             "#fb9f3a"
            ],
            [
             0.8888888888888888,
             "#fdca26"
            ],
            [
             1,
             "#f0f921"
            ]
           ],
           "sequentialminus": [
            [
             0,
             "#0d0887"
            ],
            [
             0.1111111111111111,
             "#46039f"
            ],
            [
             0.2222222222222222,
             "#7201a8"
            ],
            [
             0.3333333333333333,
             "#9c179e"
            ],
            [
             0.4444444444444444,
             "#bd3786"
            ],
            [
             0.5555555555555556,
             "#d8576b"
            ],
            [
             0.6666666666666666,
             "#ed7953"
            ],
            [
             0.7777777777777778,
             "#fb9f3a"
            ],
            [
             0.8888888888888888,
             "#fdca26"
            ],
            [
             1,
             "#f0f921"
            ]
           ]
          },
          "colorway": [
           "#636efa",
           "#EF553B",
           "#00cc96",
           "#ab63fa",
           "#FFA15A",
           "#19d3f3",
           "#FF6692",
           "#B6E880",
           "#FF97FF",
           "#FECB52"
          ],
          "font": {
           "color": "#2a3f5f"
          },
          "geo": {
           "bgcolor": "white",
           "lakecolor": "white",
           "landcolor": "white",
           "showlakes": true,
           "showland": true,
           "subunitcolor": "#C8D4E3"
          },
          "hoverlabel": {
           "align": "left"
          },
          "hovermode": "closest",
          "mapbox": {
           "style": "light"
          },
          "paper_bgcolor": "white",
          "plot_bgcolor": "white",
          "polar": {
           "angularaxis": {
            "gridcolor": "#EBF0F8",
            "linecolor": "#EBF0F8",
            "ticks": ""
           },
           "bgcolor": "white",
           "radialaxis": {
            "gridcolor": "#EBF0F8",
            "linecolor": "#EBF0F8",
            "ticks": ""
           }
          },
          "scene": {
           "xaxis": {
            "backgroundcolor": "white",
            "gridcolor": "#DFE8F3",
            "gridwidth": 2,
            "linecolor": "#EBF0F8",
            "showbackground": true,
            "ticks": "",
            "zerolinecolor": "#EBF0F8"
           },
           "yaxis": {
            "backgroundcolor": "white",
            "gridcolor": "#DFE8F3",
            "gridwidth": 2,
            "linecolor": "#EBF0F8",
            "showbackground": true,
            "ticks": "",
            "zerolinecolor": "#EBF0F8"
           },
           "zaxis": {
            "backgroundcolor": "white",
            "gridcolor": "#DFE8F3",
            "gridwidth": 2,
            "linecolor": "#EBF0F8",
            "showbackground": true,
            "ticks": "",
            "zerolinecolor": "#EBF0F8"
           }
          },
          "shapedefaults": {
           "line": {
            "color": "#2a3f5f"
           }
          },
          "ternary": {
           "aaxis": {
            "gridcolor": "#DFE8F3",
            "linecolor": "#A2B1C6",
            "ticks": ""
           },
           "baxis": {
            "gridcolor": "#DFE8F3",
            "linecolor": "#A2B1C6",
            "ticks": ""
           },
           "bgcolor": "white",
           "caxis": {
            "gridcolor": "#DFE8F3",
            "linecolor": "#A2B1C6",
            "ticks": ""
           }
          },
          "title": {
           "x": 0.05
          },
          "xaxis": {
           "automargin": true,
           "gridcolor": "#EBF0F8",
           "linecolor": "#EBF0F8",
           "ticks": "",
           "title": {
            "standoff": 15
           },
           "zerolinecolor": "#EBF0F8",
           "zerolinewidth": 2
          },
          "yaxis": {
           "automargin": true,
           "gridcolor": "#EBF0F8",
           "linecolor": "#EBF0F8",
           "ticks": "",
           "title": {
            "standoff": 15
           },
           "zerolinecolor": "#EBF0F8",
           "zerolinewidth": 2
          }
         }
        },
        "xaxis": {
         "anchor": "y",
         "domain": [
          0,
          1
         ],
         "title": {
          "text": "Carrier"
         }
        },
        "yaxis": {
         "anchor": "x",
         "domain": [
          0,
          1
         ],
         "title": {
          "text": "value"
         }
        }
       }
      }
     },
     "metadata": {},
     "output_type": "display_data"
    }
   ],
   "source": [
    "fig = px.bar(carriers_no_index, x='Carrier', y=['No','Yes'], color_discrete_sequence=[\"#0899a5\",\"#f7665a\"], opacity= 0.7)\n",
    "fig.update_layout(template= \"plotly_white\")\n",
    "#fig.write_html(\"carries_delay_laguardia.html\", auto_open = True)\n",
    "fig.show()\n"
   ]
  },
  {
   "cell_type": "markdown",
   "metadata": {},
   "source": [
    "## Crosstab (%)"
   ]
  },
  {
   "cell_type": "code",
   "execution_count": 7,
   "metadata": {},
   "outputs": [
    {
     "data": {
      "text/html": [
       "<div>\n",
       "<style scoped>\n",
       "    .dataframe tbody tr th:only-of-type {\n",
       "        vertical-align: middle;\n",
       "    }\n",
       "\n",
       "    .dataframe tbody tr th {\n",
       "        vertical-align: top;\n",
       "    }\n",
       "\n",
       "    .dataframe thead th {\n",
       "        text-align: right;\n",
       "    }\n",
       "</style>\n",
       "<table border=\"1\" class=\"dataframe\">\n",
       "  <thead>\n",
       "    <tr style=\"text-align: right;\">\n",
       "      <th>Delayed30</th>\n",
       "      <th>No</th>\n",
       "      <th>Yes</th>\n",
       "    </tr>\n",
       "    <tr>\n",
       "      <th>Carrier</th>\n",
       "      <th></th>\n",
       "      <th></th>\n",
       "    </tr>\n",
       "  </thead>\n",
       "  <tbody>\n",
       "    <tr>\n",
       "      <th>AA</th>\n",
       "      <td>86.48%</td>\n",
       "      <td>13.52%</td>\n",
       "    </tr>\n",
       "    <tr>\n",
       "      <th>UA</th>\n",
       "      <td>81.83%</td>\n",
       "      <td>18.17%</td>\n",
       "    </tr>\n",
       "  </tbody>\n",
       "</table>\n",
       "</div>"
      ],
      "text/plain": [
       "Delayed30      No     Yes\n",
       "Carrier                  \n",
       "AA         86.48%  13.52%\n",
       "UA         81.83%  18.17%"
      ]
     },
     "execution_count": 7,
     "metadata": {},
     "output_type": "execute_result"
    }
   ],
   "source": [
    "# Cruzamento de dados (percentual)\n",
    "\n",
    "def percent_contingency(data, col1, col2, type):\n",
    "    cont_table = pd.crosstab(data[col1], data[col2], normalize= type) * 100\n",
    "    return cont_table.map(lambda x: f'{x:.2f}%')\n",
    "\n",
    "percent_contingency(flightdelays, 'Carrier','Delayed30',\"index\")"
   ]
  },
  {
   "cell_type": "markdown",
   "metadata": {},
   "source": [
    "## Histograma"
   ]
  },
  {
   "cell_type": "code",
   "execution_count": 8,
   "metadata": {},
   "outputs": [
    {
     "data": {
      "text/plain": [
       "Delay\n",
       "(-50, 0]      722\n",
       "(0, 50]       249\n",
       "(50, 100]      86\n",
       "(100, 150]     39\n",
       "(150, 200]     14\n",
       "(200, 250]      7\n",
       "(250, 300]      3\n",
       "(300, 350]      2\n",
       "Name: count, dtype: int64"
      ]
     },
     "execution_count": 8,
     "metadata": {},
     "output_type": "execute_result"
    }
   ],
   "source": [
    "# distribuição dos atrasos da united airlines (UA) por classe\n",
    "\n",
    "ua_delays = flightdelays.loc[flightdelays['Carrier']=='UA','Delay']\n",
    "\n",
    "bins = range(-50,400,50)\n",
    "\n",
    "ua_delays_hist_data = pd.cut(x= ua_delays, bins= bins).value_counts()\n",
    "\n",
    "ua_delays_hist_data"
   ]
  },
  {
   "cell_type": "code",
   "execution_count": 9,
   "metadata": {},
   "outputs": [
    {
     "data": {
      "image/png": "[encoded data removed]",
      "text/plain": [
       "<Figure size 640x480 with 1 Axes>"
      ]
     },
     "metadata": {},
     "output_type": "display_data"
    }
   ],
   "source": [
    "# Histograma\n",
    " \n",
    "plt.hist(ua_delays, bins=bins, edgecolor = \"black\", rwidth=0.95, alpha = 0.7)\n",
    "plt.title(\"Atrasos nos vôos da United Airlines (LGA-NY 2008)\")\n",
    "plt.ylabel(\"Frequência\")\n",
    "plt.xlabel(\"Tempo (min)\")\n",
    "\n",
    "plt.show()"
   ]
  },
  {
   "cell_type": "markdown",
   "metadata": {},
   "source": [
    "## Histograma interativo"
   ]
  },
  {
   "cell_type": "code",
   "execution_count": 10,
   "metadata": {},
   "outputs": [
    {
     "data": {
      "application/vnd.plotly.v1+json": {
       "config": {
        "plotlyServerURL": "https://plot.ly"
       },
       "data": [
        {
         "alignmentgroup": "True",
         "bingroup": "x",
         "hovertemplate": "Delay=%{x}<br>count=%{y}<extra></extra>",
         "legendgroup": "",
         "marker": {
          "color": "#1f77b4",
          "line": {
           "color": "black",
           "width": 1
          },
          "opacity": 0.7,
          "pattern": {
           "shape": ""
          }
         },
         "name": "",
         "nbinsx": 9,
         "offsetgroup": "",
         "orientation": "v",
         "showlegend": false,
         "type": "histogram",
         "x": [
          -1,
          102,
          4,
          -2,
          -3,
          0,
          -5,
          0,
          10,
          60,
          0,
          32,
          0,
          44,
          52,
          88,
          91,
          35,
          -4,
          -1,
          -9,
          -4,
          -8,
          -8,
          1,
          -6,
          -8,
          14,
          -17,
          -4,
          38,
          0,
          -9,
          1,
          -3,
          -5,
          -6,
          -3,
          -8,
          -4,
          45,
          -8,
          -5,
          -5,
          34,
          -5,
          178,
          -6,
          0,
          28,
          -3,
          -8,
          50,
          -1,
          -6,
          -2,
          -13,
          -5,
          -2,
          88,
          -2,
          81,
          0,
          5,
          49,
          33,
          -2,
          -8,
          -7,
          -4,
          117,
          115,
          0,
          -2,
          -2,
          1,
          -2,
          -6,
          96,
          0,
          15,
          68,
          60,
          31,
          80,
          25,
          79,
          -1,
          105,
          10,
          0,
          -6,
          -5,
          -4,
          -2,
          -2,
          54,
          0,
          45,
          73,
          98,
          118,
          0,
          0,
          39,
          -7,
          100,
          -4,
          62,
          20,
          0,
          -4,
          -3,
          0,
          67,
          48,
          9,
          245,
          0,
          9,
          140,
          105,
          115,
          121,
          8,
          0,
          83,
          -4,
          47,
          -2,
          -6,
          -10,
          -2,
          -2,
          0,
          -5,
          -10,
          -5,
          -6,
          -5,
          19,
          -2,
          -9,
          -8,
          -6,
          -4,
          14,
          -5,
          6,
          0,
          -1,
          159,
          -11,
          6,
          -6,
          -4,
          32,
          -9,
          -7,
          -4,
          -6,
          -7,
          -11,
          -16,
          -6,
          -7,
          -10,
          -5,
          -6,
          21,
          -5,
          -10,
          2,
          20,
          -9,
          24,
          -4,
          -6,
          1,
          -2,
          -3,
          -5,
          -1,
          2,
          -7,
          -9,
          -5,
          62,
          -11,
          -10,
          9,
          21,
          0,
          -9,
          -11,
          -4,
          -1,
          -6,
          1,
          -5,
          -7,
          -9,
          -4,
          -7,
          -6,
          -1,
          -8,
          -3,
          -9,
          -3,
          -6,
          -9,
          -6,
          -7,
          -5,
          13,
          1,
          -7,
          -9,
          -9,
          -8,
          29,
          -10,
          -5,
          -7,
          0,
          24,
          37,
          20,
          28,
          -1,
          -5,
          0,
          9,
          -3,
          -1,
          7,
          0,
          0,
          -5,
          20,
          -1,
          45,
          28,
          69,
          100,
          0,
          132,
          83,
          118,
          90,
          138,
          -6,
          85,
          2,
          76,
          15,
          -4,
          -2,
          -2,
          24,
          17,
          125,
          45,
          0,
          83,
          0,
          100,
          80,
          91,
          20,
          63,
          -6,
          21,
          3,
          0,
          0,
          -5,
          -2,
          19,
          2,
          -3,
          -1,
          -5,
          4,
          -1,
          7,
          -2,
          -7,
          -3,
          -4,
          -8,
          -8,
          -7,
          -6,
          -7,
          -9,
          -2,
          -10,
          25,
          -9,
          -1,
          2,
          -3,
          -3,
          -6,
          -3,
          -2,
          -5,
          -6,
          -4,
          -8,
          0,
          18,
          -6,
          14,
          -7,
          185,
          -8,
          0,
          -6,
          -2,
          -8,
          2,
          105,
          1,
          138,
          -5,
          -6,
          -4,
          -2,
          -8,
          -7,
          -5,
          -2,
          5,
          -4,
          9,
          -7,
          1,
          -5,
          -4,
          -6,
          -7,
          3,
          -11,
          -8,
          -5,
          0,
          -3,
          -6,
          -5,
          -2,
          -5,
          -2,
          -8,
          -1,
          -8,
          10,
          -3,
          -9,
          -2,
          14,
          -6,
          -4,
          0,
          -4,
          -5,
          4,
          -7,
          -8,
          -6,
          8,
          -8,
          -1,
          -5,
          -7,
          -10,
          17,
          0,
          1,
          -1,
          0,
          -4,
          -1,
          -7,
          -2,
          -6,
          105,
          0,
          -4,
          -5,
          7,
          0,
          -7,
          0,
          -2,
          -2,
          11,
          -5,
          5,
          240,
          -4,
          18,
          5,
          -3,
          -6,
          -11,
          -11,
          -3,
          -6,
          -3,
          -4,
          -5,
          -8,
          2,
          0,
          -2,
          -8,
          -6,
          64,
          -2,
          -6,
          -4,
          0,
          -3,
          -5,
          -7,
          -7,
          -7,
          -12,
          -2,
          -2,
          17,
          56,
          36,
          2,
          -5,
          -7,
          5,
          0,
          -2,
          -8,
          2,
          -8,
          -8,
          3,
          51,
          0,
          29,
          1,
          0,
          31,
          27,
          -9,
          22,
          -6,
          2,
          17,
          -2,
          -8,
          -5,
          53,
          6,
          36,
          18,
          0,
          19,
          0,
          38,
          0,
          11,
          36,
          -6,
          -8,
          31,
          -4,
          58,
          59,
          -1,
          -7,
          -5,
          6,
          41,
          49,
          105,
          0,
          9,
          182,
          142,
          228,
          0,
          114,
          -7,
          -1,
          53,
          5,
          -2,
          26,
          -3,
          59,
          -4,
          -4,
          14,
          0,
          28,
          104,
          89,
          99,
          68,
          140,
          85,
          54,
          12,
          -7,
          38,
          8,
          -3,
          0,
          -1,
          65,
          -7,
          -4,
          -2,
          -7,
          -8,
          -4,
          -1,
          3,
          19,
          -2,
          20,
          -3,
          0,
          -8,
          -5,
          -4,
          -6,
          -5,
          -5,
          -8,
          -6,
          43,
          -9,
          -1,
          -8,
          0,
          -8,
          -5,
          -2,
          0,
          -8,
          -10,
          -8,
          -6,
          50,
          -10,
          -1,
          -6,
          30,
          -3,
          -6,
          56,
          -3,
          -3,
          1,
          -4,
          -5,
          0,
          -5,
          -7,
          -4,
          -7,
          1,
          -4,
          94,
          0,
          -5,
          -4,
          -6,
          -1,
          -5,
          -2,
          32,
          -1,
          -3,
          -8,
          -10,
          -13,
          -4,
          -7,
          -2,
          32,
          24,
          62,
          41,
          40,
          0,
          -5,
          -8,
          71,
          0,
          4,
          26,
          -9,
          311,
          0,
          -7,
          -2,
          -3,
          26,
          57,
          53,
          53,
          1,
          -3,
          89,
          13,
          63,
          -8,
          51,
          -5,
          -5,
          6,
          15,
          7,
          -7,
          -1,
          -9,
          20,
          0,
          24,
          12,
          83,
          39,
          80,
          47,
          122,
          72,
          75,
          0,
          16,
          -8,
          -7,
          -8,
          -5,
          0,
          -4,
          -10,
          -6,
          0,
          -10,
          -6,
          34,
          -2,
          -2,
          0,
          3,
          0,
          0,
          0,
          -7,
          -1,
          5,
          -9,
          -4,
          28,
          7,
          74,
          115,
          -1,
          -6,
          153,
          0,
          -5,
          3,
          5,
          -2,
          -4,
          39,
          120,
          -2,
          -3,
          30,
          -1,
          48,
          -11,
          -8,
          -4,
          0,
          71,
          28,
          0,
          23,
          4,
          219,
          84,
          63,
          21,
          182,
          -7,
          93,
          6,
          0,
          68,
          106,
          0,
          123,
          0,
          139,
          111,
          0,
          53,
          0,
          133,
          -5,
          -4,
          -5,
          -6,
          0,
          -5,
          -2,
          -3,
          -7,
          -7,
          0,
          -3,
          0,
          2,
          1,
          -4,
          -9,
          -12,
          -2,
          -6,
          -4,
          8,
          -2,
          0,
          20,
          -7,
          -6,
          -5,
          3,
          5,
          13,
          -3,
          0,
          84,
          55,
          0,
          57,
          55,
          25,
          4,
          -5,
          -5,
          -1,
          -4,
          -2,
          -4,
          -5,
          0,
          2,
          -7,
          -3,
          20,
          9,
          53,
          0,
          -2,
          87,
          49,
          1,
          45,
          3,
          -5,
          20,
          -2,
          -4,
          34,
          -3,
          -7,
          -6,
          -3,
          -1,
          176,
          18,
          0,
          -4,
          2,
          0,
          -2,
          -2,
          -6,
          15,
          0,
          -5,
          -1,
          2,
          -11,
          21,
          1,
          -5,
          -4,
          14,
          -5,
          -7,
          2,
          -5,
          -2,
          -5,
          45,
          0,
          -5,
          -3,
          -4,
          4,
          -7,
          -8,
          0,
          -10,
          -7,
          56,
          112,
          74,
          105,
          26,
          -7,
          24,
          -4,
          -5,
          0,
          16,
          -6,
          -7,
          -7,
          -8,
          -7,
          -5,
          1,
          2,
          -1,
          0,
          0,
          104,
          88,
          32,
          4,
          -6,
          5,
          -2,
          3,
          -4,
          -4,
          0,
          -3,
          -3,
          -6,
          -4,
          -6,
          2,
          0,
          -3,
          -5,
          -2,
          -7,
          -8,
          0,
          1,
          29,
          -3,
          1,
          -3,
          47,
          10,
          0,
          -8,
          12,
          38,
          -7,
          52,
          0,
          9,
          0,
          29,
          16,
          -3,
          60,
          4,
          -2,
          -5,
          4,
          6,
          -3,
          48,
          -9,
          -1,
          -1,
          -1,
          264,
          377,
          0,
          131,
          0,
          0,
          0,
          0,
          131,
          334,
          104,
          7,
          0,
          -4,
          -5,
          -4,
          -7,
          0,
          -1,
          4,
          198,
          -5,
          2,
          -5,
          60,
          -1,
          -5,
          0,
          -1,
          -5,
          -9,
          220,
          0,
          -4,
          -4,
          -5,
          -3,
          -4,
          1,
          33,
          39,
          -7,
          104,
          -7,
          -3,
          2,
          -4,
          14,
          -1,
          0,
          -9,
          -1,
          -7,
          69,
          15,
          -6,
          -7,
          0,
          -2,
          3,
          0,
          76,
          43,
          -1,
          -2,
          -9,
          9,
          6,
          -4,
          -3,
          -4,
          -5,
          -4,
          -8,
          -7,
          -9,
          -5,
          2,
          -6,
          -13,
          -2,
          -6,
          -4,
          0,
          -5,
          2,
          -7,
          52,
          -7,
          1,
          -2,
          31,
          -4,
          -12,
          -13,
          0,
          -3,
          -5,
          79,
          41,
          149,
          52,
          159,
          199,
          77,
          68,
          88,
          -6,
          -2,
          -4,
          0,
          -4,
          -3,
          -3,
          0,
          -4,
          -7,
          -6,
          -8,
          -3,
          3,
          -5,
          -5,
          143,
          20,
          -6,
          -3,
          -5,
          -7,
          1,
          -2,
          163,
          -3,
          -2,
          -2,
          -3,
          -7,
          -5,
          -3,
          -8,
          -4,
          -9,
          -3,
          -7,
          199,
          182,
          112,
          47,
          -2,
          -6,
          -1,
          -2,
          27,
          -7,
          -2,
          0,
          -5,
          1,
          -4,
          -2,
          -9,
          -3,
          14,
          0,
          -3,
          6,
          -4,
          5,
          -3,
          -4,
          2,
          -6,
          23,
          -4,
          -6,
          -3,
          -9,
          -4,
          -4,
          -2,
          -5,
          -5,
          2,
          -1,
          245,
          -5,
          -2,
          -2,
          -5,
          -4,
          10,
          -3,
          -8,
          0,
          -4,
          -10,
          0,
          -2,
          -1,
          -5,
          -3,
          -4,
          1,
          0,
          -6,
          217,
          -4,
          -5,
          -4,
          -3,
          -8,
          -2,
          -8,
          266,
          291,
          0,
          198,
          0,
          76,
          0,
          3,
          -6,
          7
         ],
         "xaxis": "x",
         "yaxis": "y"
        }
       ],
       "layout": {
        "bargap": 0.05,
        "barmode": "relative",
        "height": 600,
        "legend": {
         "tracegroupgap": 0
        },
        "template": {
         "data": {
          "bar": [
           {
            "error_x": {
             "color": "rgb(51,51,51)"
            },
            "error_y": {
             "color": "rgb(51,51,51)"
            },
            "marker": {
             "line": {
              "color": "rgb(237,237,237)",
              "width": 0.5
             },
             "pattern": {
              "fillmode": "overlay",
              "size": 10,
              "solidity": 0.2
             }
            },
            "type": "bar"
           }
          ],
          "barpolar": [
           {
            "marker": {
             "line": {
              "color": "rgb(237,237,237)",
              "width": 0.5
             },
             "pattern": {
              "fillmode": "overlay",
              "size": 10,
              "solidity": 0.2
             }
            },
            "type": "barpolar"
           }
          ],
          "carpet": [
           {
            "aaxis": {
             "endlinecolor": "rgb(51,51,51)",
             "gridcolor": "white",
             "linecolor": "white",
             "minorgridcolor": "white",
             "startlinecolor": "rgb(51,51,51)"
            },
            "baxis": {
             "endlinecolor": "rgb(51,51,51)",
             "gridcolor": "white",
             "linecolor": "white",
             "minorgridcolor": "white",
             "startlinecolor": "rgb(51,51,51)"
            },
            "type": "carpet"
           }
          ],
          "choropleth": [
           {
            "colorbar": {
             "outlinewidth": 0,
             "tickcolor": "rgb(237,237,237)",
             "ticklen": 6,
             "ticks": "inside"
            },
            "type": "choropleth"
           }
          ],
          "contour": [
           {
            "colorbar": {
             "outlinewidth": 0,
             "tickcolor": "rgb(237,237,237)",
             "ticklen": 6,
             "ticks": "inside"
            },
            "colorscale": [
             [
              0,
              "rgb(20,44,66)"
             ],
             [
              1,
              "rgb(90,179,244)"
             ]
            ],
            "type": "contour"
           }
          ],
          "contourcarpet": [
           {
            "colorbar": {
             "outlinewidth": 0,
             "tickcolor": "rgb(237,237,237)",
             "ticklen": 6,
             "ticks": "inside"
            },
            "type": "contourcarpet"
           }
          ],
          "heatmap": [
           {
            "colorbar": {
             "outlinewidth": 0,
             "tickcolor": "rgb(237,237,237)",
             "ticklen": 6,
             "ticks": "inside"
            },
            "colorscale": [
             [
              0,
              "rgb(20,44,66)"
             ],
             [
              1,
              "rgb(90,179,244)"
             ]
            ],
            "type": "heatmap"
           }
          ],
          "heatmapgl": [
           {
            "colorbar": {
             "outlinewidth": 0,
             "tickcolor": "rgb(237,237,237)",
             "ticklen": 6,
             "ticks": "inside"
            },
            "colorscale": [
             [
              0,
              "rgb(20,44,66)"
             ],
             [
              1,
              "rgb(90,179,244)"
             ]
            ],
            "type": "heatmapgl"
           }
          ],
          "histogram": [
           {
            "marker": {
             "pattern": {
              "fillmode": "overlay",
              "size": 10,
              "solidity": 0.2
             }
            },
            "type": "histogram"
           }
          ],
          "histogram2d": [
           {
            "colorbar": {
             "outlinewidth": 0,
             "tickcolor": "rgb(237,237,237)",
             "ticklen": 6,
             "ticks": "inside"
            },
            "colorscale": [
             [
              0,
              "rgb(20,44,66)"
             ],
             [
              1,
              "rgb(90,179,244)"
             ]
            ],
            "type": "histogram2d"
           }
          ],
          "histogram2dcontour": [
           {
            "colorbar": {
             "outlinewidth": 0,
             "tickcolor": "rgb(237,237,237)",
             "ticklen": 6,
             "ticks": "inside"
            },
            "colorscale": [
             [
              0,
              "rgb(20,44,66)"
             ],
             [
              1,
              "rgb(90,179,244)"
             ]
            ],
            "type": "histogram2dcontour"
           }
          ],
          "mesh3d": [
           {
            "colorbar": {
             "outlinewidth": 0,
             "tickcolor": "rgb(237,237,237)",
             "ticklen": 6,
             "ticks": "inside"
            },
            "type": "mesh3d"
           }
          ],
          "parcoords": [
           {
            "line": {
             "colorbar": {
              "outlinewidth": 0,
              "tickcolor": "rgb(237,237,237)",
              "ticklen": 6,
              "ticks": "inside"
             }
            },
            "type": "parcoords"
           }
          ],
          "pie": [
           {
            "automargin": true,
            "type": "pie"
           }
          ],
          "scatter": [
           {
            "fillpattern": {
             "fillmode": "overlay",
             "size": 10,
             "solidity": 0.2
            },
            "type": "scatter"
           }
          ],
          "scatter3d": [
           {
            "line": {
             "colorbar": {
              "outlinewidth": 0,
              "tickcolor": "rgb(237,237,237)",
              "ticklen": 6,
              "ticks": "inside"
             }
            },
            "marker": {
             "colorbar": {
              "outlinewidth": 0,
              "tickcolor": "rgb(237,237,237)",
              "ticklen": 6,
              "ticks": "inside"
             }
            },
            "type": "scatter3d"
           }
          ],
          "scattercarpet": [
           {
            "marker": {
             "colorbar": {
              "outlinewidth": 0,
              "tickcolor": "rgb(237,237,237)",
              "ticklen": 6,
              "ticks": "inside"
             }
            },
            "type": "scattercarpet"
           }
          ],
          "scattergeo": [
           {
            "marker": {
             "colorbar": {
              "outlinewidth": 0,
              "tickcolor": "rgb(237,237,237)",
              "ticklen": 6,
              "ticks": "inside"
             }
            },
            "type": "scattergeo"
           }
          ],
          "scattergl": [
           {
            "marker": {
             "colorbar": {
              "outlinewidth": 0,
              "tickcolor": "rgb(237,237,237)",
              "ticklen": 6,
              "ticks": "inside"
             }
            },
            "type": "scattergl"
           }
          ],
          "scattermapbox": [
           {
            "marker": {
             "colorbar": {
              "outlinewidth": 0,
              "tickcolor": "rgb(237,237,237)",
              "ticklen": 6,
              "ticks": "inside"
             }
            },
            "type": "scattermapbox"
           }
          ],
          "scatterpolar": [
           {
            "marker": {
             "colorbar": {
              "outlinewidth": 0,
              "tickcolor": "rgb(237,237,237)",
              "ticklen": 6,
              "ticks": "inside"
             }
            },
            "type": "scatterpolar"
           }
          ],
          "scatterpolargl": [
           {
            "marker": {
             "colorbar": {
              "outlinewidth": 0,
              "tickcolor": "rgb(237,237,237)",
              "ticklen": 6,
              "ticks": "inside"
             }
            },
            "type": "scatterpolargl"
           }
          ],
          "scatterternary": [
           {
            "marker": {
             "colorbar": {
              "outlinewidth": 0,
              "tickcolor": "rgb(237,237,237)",
              "ticklen": 6,
              "ticks": "inside"
             }
            },
            "type": "scatterternary"
           }
          ],
          "surface": [
           {
            "colorbar": {
             "outlinewidth": 0,
             "tickcolor": "rgb(237,237,237)",
             "ticklen": 6,
             "ticks": "inside"
            },
            "colorscale": [
             [
              0,
              "rgb(20,44,66)"
             ],
             [
              1,
              "rgb(90,179,244)"
             ]
            ],
            "type": "surface"
           }
          ],
          "table": [
           {
            "cells": {
             "fill": {
              "color": "rgb(237,237,237)"
             },
             "line": {
              "color": "white"
             }
            },
            "header": {
             "fill": {
              "color": "rgb(217,217,217)"
             },
             "line": {
              "color": "white"
             }
            },
            "type": "table"
           }
          ]
         },
         "layout": {
          "annotationdefaults": {
           "arrowhead": 0,
           "arrowwidth": 1
          },
          "autotypenumbers": "strict",
          "coloraxis": {
           "colorbar": {
            "outlinewidth": 0,
            "tickcolor": "rgb(237,237,237)",
            "ticklen": 6,
            "ticks": "inside"
           }
          },
          "colorscale": {
           "sequential": [
            [
             0,
             "rgb(20,44,66)"
            ],
            [
             1,
             "rgb(90,179,244)"
            ]
           ],
           "sequentialminus": [
            [
             0,
             "rgb(20,44,66)"
            ],
            [
             1,
             "rgb(90,179,244)"
            ]
           ]
          },
          "colorway": [
           "#F8766D",
           "#A3A500",
           "#00BF7D",
           "#00B0F6",
           "#E76BF3"
          ],
          "font": {
           "color": "rgb(51,51,51)"
          },
          "geo": {
           "bgcolor": "white",
           "lakecolor": "white",
           "landcolor": "rgb(237,237,237)",
           "showlakes": true,
           "showland": true,
           "subunitcolor": "white"
          },
          "hoverlabel": {
           "align": "left"
          },
          "hovermode": "closest",
          "paper_bgcolor": "white",
          "plot_bgcolor": "rgb(237,237,237)",
          "polar": {
           "angularaxis": {
            "gridcolor": "white",
            "linecolor": "white",
            "showgrid": true,
            "tickcolor": "rgb(51,51,51)",
            "ticks": "outside"
           },
           "bgcolor": "rgb(237,237,237)",
           "radialaxis": {
            "gridcolor": "white",
            "linecolor": "white",
            "showgrid": true,
            "tickcolor": "rgb(51,51,51)",
            "ticks": "outside"
           }
          },
          "scene": {
           "xaxis": {
            "backgroundcolor": "rgb(237,237,237)",
            "gridcolor": "white",
            "gridwidth": 2,
            "linecolor": "white",
            "showbackground": true,
            "showgrid": true,
            "tickcolor": "rgb(51,51,51)",
            "ticks": "outside",
            "zerolinecolor": "white"
           },
           "yaxis": {
            "backgroundcolor": "rgb(237,237,237)",
            "gridcolor": "white",
            "gridwidth": 2,
            "linecolor": "white",
            "showbackground": true,
            "showgrid": true,
            "tickcolor": "rgb(51,51,51)",
            "ticks": "outside",
            "zerolinecolor": "white"
           },
           "zaxis": {
            "backgroundcolor": "rgb(237,237,237)",
            "gridcolor": "white",
            "gridwidth": 2,
            "linecolor": "white",
            "showbackground": true,
            "showgrid": true,
            "tickcolor": "rgb(51,51,51)",
            "ticks": "outside",
            "zerolinecolor": "white"
           }
          },
          "shapedefaults": {
           "fillcolor": "black",
           "line": {
            "width": 0
           },
           "opacity": 0.3
          },
          "ternary": {
           "aaxis": {
            "gridcolor": "white",
            "linecolor": "white",
            "showgrid": true,
            "tickcolor": "rgb(51,51,51)",
            "ticks": "outside"
           },
           "baxis": {
            "gridcolor": "white",
            "linecolor": "white",
            "showgrid": true,
            "tickcolor": "rgb(51,51,51)",
            "ticks": "outside"
           },
           "bgcolor": "rgb(237,237,237)",
           "caxis": {
            "gridcolor": "white",
            "linecolor": "white",
            "showgrid": true,
            "tickcolor": "rgb(51,51,51)",
            "ticks": "outside"
           }
          },
          "xaxis": {
           "automargin": true,
           "gridcolor": "white",
           "linecolor": "white",
           "showgrid": true,
           "tickcolor": "rgb(51,51,51)",
           "ticks": "outside",
           "title": {
            "standoff": 15
           },
           "zerolinecolor": "white"
          },
          "yaxis": {
           "automargin": true,
           "gridcolor": "white",
           "linecolor": "white",
           "showgrid": true,
           "tickcolor": "rgb(51,51,51)",
           "ticks": "outside",
           "title": {
            "standoff": 15
           },
           "zerolinecolor": "white"
          }
         }
        },
        "title": {
         "text": "Atrasos nos vôos da United Airlines (LGA-NY 2008)"
        },
        "width": 800,
        "xaxis": {
         "anchor": "y",
         "domain": [
          0,
          1
         ],
         "title": {
          "text": "Tempo (min)"
         }
        },
        "yaxis": {
         "anchor": "x",
         "domain": [
          0,
          1
         ],
         "title": {
          "text": "Frequência"
         }
        }
       }
      }
     },
     "metadata": {},
     "output_type": "display_data"
    }
   ],
   "source": [
    "fig = px.histogram(ua_delays, \n",
    "                   x= \"Delay\", \n",
    "                   color_discrete_sequence=['#1f77b4'],\n",
    "                   nbins= len(bins),                     \n",
    "                   opacity= 0.7, \n",
    "                   title= \"Atrasos nos vôos da United Airlines (LGA-NY 2008)\")\n",
    "fig.update_layout(bargap = 0.05, width = 800,height = 600, template = \"ggplot2\")\n",
    "fig.update_yaxes(title_text= \"Frequência\")\n",
    "fig.update_xaxes(title_text= \"Tempo (min)\")\n",
    "fig.update_traces(marker_line_width=1,marker_line_color=\"black\")\n",
    "fig.show()"
   ]
  },
  {
   "cell_type": "markdown",
   "metadata": {},
   "source": [
    "### dot plot"
   ]
  },
  {
   "cell_type": "markdown",
   "metadata": {},
   "source": [
    "# Numeric Summaries"
   ]
  },
  {
   "cell_type": "markdown",
   "metadata": {},
   "source": [
    "## Média e mediana"
   ]
  },
  {
   "cell_type": "code",
   "execution_count": 11,
   "metadata": {},
   "outputs": [
    {
     "data": {
      "text/plain": [
       "mean      15.983081\n",
       "median    -1.000000\n",
       "Name: Delay, dtype: float64"
      ]
     },
     "execution_count": 11,
     "metadata": {},
     "output_type": "execute_result"
    }
   ],
   "source": [
    "ua_delays.agg(['mean','median'], axis='index')"
   ]
  },
  {
   "cell_type": "markdown",
   "metadata": {},
   "source": [
    "## Trimmed mean"
   ]
  },
  {
   "cell_type": "code",
   "execution_count": 12,
   "metadata": {},
   "outputs": [
    {
     "data": {
      "text/plain": [
       "7.833333333333333"
      ]
     },
     "execution_count": 12,
     "metadata": {},
     "output_type": "execute_result"
    }
   ],
   "source": [
    "ex2_1 = [1,3,3,4,4,7,8,10,14,21,21,26]\n",
    "stats.trim_mean(ex2_1,proportiontocut=0.25) # em scipy.stats"
   ]
  },
  {
   "cell_type": "markdown",
   "metadata": {},
   "source": [
    "## Summary statistics\n"
   ]
  },
  {
   "cell_type": "code",
   "execution_count": 13,
   "metadata": {},
   "outputs": [
    {
     "data": {
      "text/html": [
       "<div>\n",
       "<style scoped>\n",
       "    .dataframe tbody tr th:only-of-type {\n",
       "        vertical-align: middle;\n",
       "    }\n",
       "\n",
       "    .dataframe tbody tr th {\n",
       "        vertical-align: top;\n",
       "    }\n",
       "\n",
       "    .dataframe thead th {\n",
       "        text-align: right;\n",
       "    }\n",
       "</style>\n",
       "<table border=\"1\" class=\"dataframe\">\n",
       "  <thead>\n",
       "    <tr style=\"text-align: right;\">\n",
       "      <th></th>\n",
       "      <th>Gender</th>\n",
       "      <th>Age</th>\n",
       "      <th>Age25</th>\n",
       "      <th>Race</th>\n",
       "      <th>Offense</th>\n",
       "      <th>Recid</th>\n",
       "      <th>Type</th>\n",
       "      <th>Days</th>\n",
       "    </tr>\n",
       "  </thead>\n",
       "  <tbody>\n",
       "    <tr>\n",
       "      <th>0</th>\n",
       "      <td>M</td>\n",
       "      <td>Under 25</td>\n",
       "      <td>Under 25</td>\n",
       "      <td>White-NonHispanic</td>\n",
       "      <td>Felony</td>\n",
       "      <td>Yes</td>\n",
       "      <td>Tech</td>\n",
       "      <td>16.0</td>\n",
       "    </tr>\n",
       "    <tr>\n",
       "      <th>1</th>\n",
       "      <td>M</td>\n",
       "      <td>55 and Older</td>\n",
       "      <td>Over 25</td>\n",
       "      <td>White-NonHispanic</td>\n",
       "      <td>Felony</td>\n",
       "      <td>Yes</td>\n",
       "      <td>Tech</td>\n",
       "      <td>19.0</td>\n",
       "    </tr>\n",
       "    <tr>\n",
       "      <th>2</th>\n",
       "      <td>M</td>\n",
       "      <td>25-34</td>\n",
       "      <td>Over 25</td>\n",
       "      <td>White-NonHispanic</td>\n",
       "      <td>Felony</td>\n",
       "      <td>Yes</td>\n",
       "      <td>Tech</td>\n",
       "      <td>22.0</td>\n",
       "    </tr>\n",
       "    <tr>\n",
       "      <th>3</th>\n",
       "      <td>M</td>\n",
       "      <td>55 and Older</td>\n",
       "      <td>Over 25</td>\n",
       "      <td>White-NonHispanic</td>\n",
       "      <td>Felony</td>\n",
       "      <td>Yes</td>\n",
       "      <td>Tech</td>\n",
       "      <td>25.0</td>\n",
       "    </tr>\n",
       "    <tr>\n",
       "      <th>4</th>\n",
       "      <td>M</td>\n",
       "      <td>25-34</td>\n",
       "      <td>Over 25</td>\n",
       "      <td>Black-NonHispanic</td>\n",
       "      <td>Felony</td>\n",
       "      <td>Yes</td>\n",
       "      <td>Tech</td>\n",
       "      <td>26.0</td>\n",
       "    </tr>\n",
       "  </tbody>\n",
       "</table>\n",
       "</div>"
      ],
      "text/plain": [
       "  Gender           Age     Age25               Race Offense Recid  Type  Days\n",
       "0      M      Under 25  Under 25  White-NonHispanic  Felony   Yes  Tech  16.0\n",
       "1      M  55 and Older   Over 25  White-NonHispanic  Felony   Yes  Tech  19.0\n",
       "2      M         25-34   Over 25  White-NonHispanic  Felony   Yes  Tech  22.0\n",
       "3      M  55 and Older   Over 25  White-NonHispanic  Felony   Yes  Tech  25.0\n",
       "4      M         25-34   Over 25  Black-NonHispanic  Felony   Yes  Tech  26.0"
      ]
     },
     "execution_count": 13,
     "metadata": {},
     "output_type": "execute_result"
    }
   ],
   "source": [
    "recidivism = pd.read_csv(filepath_or_buffer='rawdata\\Recidivism.csv')\n",
    "recidivism.head()"
   ]
  },
  {
   "cell_type": "code",
   "execution_count": 14,
   "metadata": {},
   "outputs": [
    {
     "data": {
      "text/html": [
       "<div>\n",
       "<style scoped>\n",
       "    .dataframe tbody tr th:only-of-type {\n",
       "        vertical-align: middle;\n",
       "    }\n",
       "\n",
       "    .dataframe tbody tr th {\n",
       "        vertical-align: top;\n",
       "    }\n",
       "\n",
       "    .dataframe thead th {\n",
       "        text-align: right;\n",
       "    }\n",
       "</style>\n",
       "<table border=\"1\" class=\"dataframe\">\n",
       "  <thead>\n",
       "    <tr style=\"text-align: right;\">\n",
       "      <th></th>\n",
       "      <th>Name</th>\n",
       "      <th>N</th>\n",
       "      <th>Mean</th>\n",
       "      <th>Median</th>\n",
       "      <th>Variance</th>\n",
       "      <th>SD</th>\n",
       "      <th>SE</th>\n",
       "      <th>95% Conf. Interval</th>\n",
       "      <th>Min</th>\n",
       "      <th>Max</th>\n",
       "      <th>Range</th>\n",
       "      <th>Kurtosis</th>\n",
       "      <th>Skew</th>\n",
       "    </tr>\n",
       "  </thead>\n",
       "  <tbody>\n",
       "    <tr>\n",
       "      <th>0</th>\n",
       "      <td>Days</td>\n",
       "      <td>5386</td>\n",
       "      <td>473.33</td>\n",
       "      <td>418.0</td>\n",
       "      <td>80167.88</td>\n",
       "      <td>283.14</td>\n",
       "      <td>3.86</td>\n",
       "      <td>[465.76, 480.89]</td>\n",
       "      <td>0.0</td>\n",
       "      <td>1095.0</td>\n",
       "      <td>1095.0</td>\n",
       "      <td>2.16</td>\n",
       "      <td>0.46</td>\n",
       "    </tr>\n",
       "  </tbody>\n",
       "</table>\n",
       "</div>"
      ],
      "text/plain": [
       "   Name     N    Mean Median  Variance      SD    SE 95% Conf. Interval  Min  \\\n",
       "0  Days  5386  473.33  418.0  80167.88  283.14  3.86   [465.76, 480.89]  0.0   \n",
       "\n",
       "      Max   Range Kurtosis  Skew  \n",
       "0  1095.0  1095.0     2.16  0.46  "
      ]
     },
     "execution_count": 14,
     "metadata": {},
     "output_type": "execute_result"
    }
   ],
   "source": [
    "rp.summarize(data= recidivism['Days'], stats= [\"N\", \"Mean\", \"Median\", \"Variance\", \"SD\", \"SE\", \"CI\", 'Min', 'Max', 'Range', \"Kurtosis\", \"Skew\"], decimals=2)"
   ]
  },
  {
   "cell_type": "markdown",
   "metadata": {},
   "source": [
    "## Sumário descritivo das informações do Dataframe"
   ]
  },
  {
   "cell_type": "code",
   "execution_count": 15,
   "metadata": {},
   "outputs": [
    {
     "name": "stdout",
     "output_type": "stream",
     "text": [
      "Variable: Gender    Data Type: object \n",
      "\n",
      " Number of Obs.: 17022 \n",
      " Number of missing obs.: 3 \n",
      " Percent missing: 0.02 \n",
      " Number of unique values: 2 \n",
      "\n",
      " Data Values and Counts: \n",
      " \n",
      " Values  Frequency\n",
      "     F       2101\n",
      "     M      14918\n",
      "\n",
      "\n",
      "\n",
      "\n",
      "Variable: Age    Data Type: object \n",
      "\n",
      " Number of Obs.: 17022 \n",
      " Number of missing obs.: 3 \n",
      " Percent missing: 0.02 \n",
      " Number of unique values: 5 \n",
      "\n",
      " Data Values and Counts: \n",
      " \n",
      "       Values  Frequency\n",
      "       25-34       6227\n",
      "       35-44       4035\n",
      "       45-54       2872\n",
      "55 and Older        808\n",
      "    Under 25       3077\n",
      "\n",
      "\n",
      "\n",
      "\n",
      "Variable: Age25    Data Type: object \n",
      "\n",
      " Number of Obs.: 17022 \n",
      " Number of missing obs.: 3 \n",
      " Percent missing: 0.02 \n",
      " Number of unique values: 2 \n",
      "\n",
      " Data Values and Counts: \n",
      " \n",
      "   Values  Frequency\n",
      " Over 25      13942\n",
      "Under 25       3077\n",
      "\n",
      "\n",
      "\n",
      "\n",
      "Variable: Race    Data Type: object \n",
      "\n",
      " Number of Obs.: 17022 \n",
      " Number of missing obs.: 34 \n",
      " Percent missing: 0.2 \n",
      " Number of unique values: 10 \n",
      "\n",
      " Data Values and Counts: \n",
      " \n",
      "                                       Values  Frequency\n",
      "   American Indian or Alaska Native-Hispanic         14\n",
      "American Indian or Alaska Native-NonHispanic        317\n",
      "          Asian or Pacific Islander-Hispanic          2\n",
      "       Asian or Pacific Islander-NonHispanic        126\n",
      "                                       Black          2\n",
      "                              Black-Hispanic         26\n",
      "                           Black-NonHispanic       4072\n",
      "                                       White         11\n",
      "                              White-Hispanic       1030\n",
      "                           White-NonHispanic      11388\n",
      "\n",
      "\n",
      "\n",
      "\n",
      "Variable: Offense    Data Type: object \n",
      "\n",
      " Number of Obs.: 17022 \n",
      " Number of missing obs.: 0 \n",
      " Percent missing: 0.0 \n",
      " Number of unique values: 2 \n",
      "\n",
      " Data Values and Counts: \n",
      " \n",
      "      Values  Frequency\n",
      "     Felony      13720\n",
      "Misdemeanor       3302\n",
      "\n",
      "\n",
      "\n",
      "\n",
      "Variable: Recid    Data Type: object \n",
      "\n",
      " Number of Obs.: 17022 \n",
      " Number of missing obs.: 0 \n",
      " Percent missing: 0.0 \n",
      " Number of unique values: 2 \n",
      "\n",
      " Data Values and Counts: \n",
      " \n",
      " Values  Frequency\n",
      "    No      11636\n",
      "   Yes       5386\n",
      "\n",
      "\n",
      "\n",
      "\n",
      "Variable: Type    Data Type: object \n",
      "\n",
      " Number of Obs.: 17022 \n",
      " Number of missing obs.: 0 \n",
      " Percent missing: 0.0 \n",
      " Number of unique values: 3 \n",
      "\n",
      " Data Values and Counts: \n",
      " \n",
      "        Values  Frequency\n",
      "          New       3437\n",
      "No Recidivism      11636\n",
      "         Tech       1949\n",
      "\n",
      "\n",
      "\n",
      "\n",
      "Variable: Days    Data Type: float64 \n",
      "\n",
      " Number of Obs.: 17022 \n",
      " Number of missing obs.: 11636 \n",
      " Percent missing: 68.36 \n",
      " Number of unique values: 1053 \n",
      "\n",
      " Range: [0.0, 1095.0] \n",
      " Mean: 473.33 \n",
      " Standard Deviation: 283.14 \n",
      " Mode: 287.0 \n",
      " 10th Percentile: 134.0 \n",
      " 25th Percentile: 241.0 \n",
      " 50th Percentile: 418.0 \n",
      " 75th Percentile: 687.0 \n",
      " 90th Percentile: 909.0 \n",
      "\n",
      "\n",
      "\n",
      "\n",
      "\n"
     ]
    }
   ],
   "source": [
    "rp.codebook(recidivism)"
   ]
  },
  {
   "cell_type": "markdown",
   "metadata": {},
   "source": [
    "## Boxplot"
   ]
  },
  {
   "cell_type": "code",
   "execution_count": 16,
   "metadata": {},
   "outputs": [
    {
     "data": {
      "text/html": [
       "<div>\n",
       "<style scoped>\n",
       "    .dataframe tbody tr th:only-of-type {\n",
       "        vertical-align: middle;\n",
       "    }\n",
       "\n",
       "    .dataframe tbody tr th {\n",
       "        vertical-align: top;\n",
       "    }\n",
       "\n",
       "    .dataframe thead th {\n",
       "        text-align: right;\n",
       "    }\n",
       "</style>\n",
       "<table border=\"1\" class=\"dataframe\">\n",
       "  <thead>\n",
       "    <tr style=\"text-align: right;\">\n",
       "      <th></th>\n",
       "      <th>ID</th>\n",
       "      <th>Carrier</th>\n",
       "      <th>FlightNo</th>\n",
       "      <th>Destination</th>\n",
       "      <th>DepartTime</th>\n",
       "      <th>Day</th>\n",
       "      <th>Month</th>\n",
       "      <th>FlightLength</th>\n",
       "      <th>Delay</th>\n",
       "      <th>Delayed30</th>\n",
       "    </tr>\n",
       "  </thead>\n",
       "  <tbody>\n",
       "    <tr>\n",
       "      <th>0</th>\n",
       "      <td>1</td>\n",
       "      <td>UA</td>\n",
       "      <td>403</td>\n",
       "      <td>DEN</td>\n",
       "      <td>4-8am</td>\n",
       "      <td>Fri</td>\n",
       "      <td>May</td>\n",
       "      <td>281</td>\n",
       "      <td>-1</td>\n",
       "      <td>No</td>\n",
       "    </tr>\n",
       "    <tr>\n",
       "      <th>1</th>\n",
       "      <td>2</td>\n",
       "      <td>UA</td>\n",
       "      <td>405</td>\n",
       "      <td>DEN</td>\n",
       "      <td>8-Noon</td>\n",
       "      <td>Fri</td>\n",
       "      <td>May</td>\n",
       "      <td>277</td>\n",
       "      <td>102</td>\n",
       "      <td>Yes</td>\n",
       "    </tr>\n",
       "    <tr>\n",
       "      <th>2</th>\n",
       "      <td>3</td>\n",
       "      <td>UA</td>\n",
       "      <td>409</td>\n",
       "      <td>DEN</td>\n",
       "      <td>4-8pm</td>\n",
       "      <td>Fri</td>\n",
       "      <td>May</td>\n",
       "      <td>279</td>\n",
       "      <td>4</td>\n",
       "      <td>No</td>\n",
       "    </tr>\n",
       "    <tr>\n",
       "      <th>3</th>\n",
       "      <td>4</td>\n",
       "      <td>UA</td>\n",
       "      <td>511</td>\n",
       "      <td>ORD</td>\n",
       "      <td>8-Noon</td>\n",
       "      <td>Fri</td>\n",
       "      <td>May</td>\n",
       "      <td>158</td>\n",
       "      <td>-2</td>\n",
       "      <td>No</td>\n",
       "    </tr>\n",
       "    <tr>\n",
       "      <th>4</th>\n",
       "      <td>5</td>\n",
       "      <td>UA</td>\n",
       "      <td>667</td>\n",
       "      <td>ORD</td>\n",
       "      <td>4-8am</td>\n",
       "      <td>Fri</td>\n",
       "      <td>May</td>\n",
       "      <td>143</td>\n",
       "      <td>-3</td>\n",
       "      <td>No</td>\n",
       "    </tr>\n",
       "  </tbody>\n",
       "</table>\n",
       "</div>"
      ],
      "text/plain": [
       "   ID Carrier  FlightNo Destination DepartTime  Day Month  FlightLength  \\\n",
       "0   1      UA       403         DEN      4-8am  Fri   May           281   \n",
       "1   2      UA       405         DEN     8-Noon  Fri   May           277   \n",
       "2   3      UA       409         DEN      4-8pm  Fri   May           279   \n",
       "3   4      UA       511         ORD     8-Noon  Fri   May           158   \n",
       "4   5      UA       667         ORD      4-8am  Fri   May           143   \n",
       "\n",
       "   Delay Delayed30  \n",
       "0     -1        No  \n",
       "1    102       Yes  \n",
       "2      4        No  \n",
       "3     -2        No  \n",
       "4     -3        No  "
      ]
     },
     "execution_count": 16,
     "metadata": {},
     "output_type": "execute_result"
    }
   ],
   "source": [
    "ua_flights = flightdelays.loc[flightdelays['Carrier']=='UA',:]\n",
    "ua_flights.head()"
   ]
  },
  {
   "cell_type": "code",
   "execution_count": 17,
   "metadata": {},
   "outputs": [
    {
     "data": {
      "image/png": "[encoded data removed]",
      "text/plain": [
       "<Figure size 800x550 with 1 Axes>"
      ]
     },
     "metadata": {},
     "output_type": "display_data"
    }
   ],
   "source": [
    "# consulte estilos em plt.style.available\n",
    "plt.style.use('seaborn-v0_8')\n",
    "ua_flights.boxplot(column='FlightLength', by= 'Day')\n",
    "plt.show()"
   ]
  },
  {
   "cell_type": "markdown",
   "metadata": {},
   "source": [
    "## Box plot Seaborn"
   ]
  },
  {
   "cell_type": "code",
   "execution_count": 18,
   "metadata": {},
   "outputs": [
    {
     "data": {
      "image/png": "[encoded data removed]",
      "text/plain": [
       "<Figure size 800x550 with 1 Axes>"
      ]
     },
     "metadata": {},
     "output_type": "display_data"
    }
   ],
   "source": [
    "sns.set_theme(style=\"ticks\", palette=\"pastel\")\n",
    "\n",
    "# Dados\n",
    "ua_flights\n",
    "\n",
    "# Draw a nested boxplot to show bills by day and time\n",
    "sns.boxplot(x=\"Day\", y=\"FlightLength\",\n",
    "            order= ['Sun', 'Mon', 'Tue', 'Wed', 'Thu','Fri', 'Sat'],\n",
    "            #hue=\"smoker\", palette=[\"m\", \"g\"],\n",
    "            data=ua_flights)\n",
    "sns.despine(offset=10, trim=True)"
   ]
  },
  {
   "cell_type": "markdown",
   "metadata": {},
   "source": [
    "## Quantiles and Normal quantile plots"
   ]
  },
  {
   "cell_type": "code",
   "execution_count": 19,
   "metadata": {},
   "outputs": [
    {
     "data": {
      "text/plain": [
       "<Axes: xlabel='Weight', ylabel='Density'>"
      ]
     },
     "execution_count": 19,
     "metadata": {},
     "output_type": "execute_result"
    },
    {
     "data": {
      "image/png": "[encoded data removed]",
      "text/plain": [
       "<Figure size 700x500 with 1 Axes>"
      ]
     },
     "metadata": {},
     "output_type": "display_data"
    }
   ],
   "source": [
    "sns.set_theme(style=\"ticks\")\n",
    "\n",
    "\n",
    "# Dados \n",
    "ncbirths2004 = pd.read_csv(r'rawdata\\NCBirths2004.csv')\n",
    "\n",
    "f, ax = plt.subplots(figsize=(7, 5))\n",
    "sns.despine(f)\n",
    "\n",
    "sns.histplot(\n",
    "    ncbirths2004,\n",
    "    x=\"Weight\",\n",
    "    hue=\"Gender\",\n",
    "    multiple=\"stack\",\n",
    "    palette=\"light:b\",\n",
    "    edgecolor=\".3\",\n",
    "    linewidth=.5,\n",
    "    alpha = 0.45,\n",
    "    stat= \"density\"    \n",
    ")\n",
    "sns.kdeplot(data=ncbirths2004,\n",
    "    x=\"Weight\",\n",
    "    hue=\"Gender\", palette=\"light:b\", ax=ax)\n",
    "\n"
   ]
  },
  {
   "cell_type": "code",
   "execution_count": 20,
   "metadata": {},
   "outputs": [
    {
     "data": {
      "text/plain": [
       "<matplotlib.collections.PolyCollection at 0x1c4ae788710>"
      ]
     },
     "execution_count": 20,
     "metadata": {},
     "output_type": "execute_result"
    },
    {
     "data": {
      "image/png": "[encoded data removed]",
      "text/plain": [
       "<Figure size 700x500 with 1 Axes>"
      ]
     },
     "metadata": {},
     "output_type": "display_data"
    }
   ],
   "source": [
    "f, ax = plt.subplots(figsize=(7, 5))\n",
    "sns.despine(f)\n",
    "sns.kdeplot(data=ncbirths2004,\n",
    "            x = \"Weight\",\n",
    "            color = '#4e79a7', \n",
    "            \n",
    "            ax=ax)\n",
    "x = ax.lines[-1].get_xdata()\n",
    "x_densidade = np.percentile(ncbirths2004['Weight'], 60)\n",
    "y = ax.lines[-1].get_ydata()\n",
    "\n",
    "\n",
    "ax.fill_between(x, 0, y, where=x < x_densidade, color='#4e79a7', alpha=0.3)"
   ]
  },
  {
   "cell_type": "code",
   "execution_count": 21,
   "metadata": {},
   "outputs": [
    {
     "data": {
      "text/plain": [
       "<Axes: xlabel='teorico', ylabel='real'>"
      ]
     },
     "execution_count": 21,
     "metadata": {},
     "output_type": "execute_result"
    },
    {
     "data": {
      "image/png": "[encoded data removed]",
      "text/plain": [
       "<Figure size 600x600 with 3 Axes>"
      ]
     },
     "metadata": {},
     "output_type": "display_data"
    }
   ],
   "source": [
    "import numpy as np\n",
    "import pandas as pd\n",
    "import scipy.stats as stats\n",
    "from scipy.stats import norm \n",
    "import seaborn as sns\n",
    "\n",
    "# dados\n",
    "ua_delayed30_delays = flightdelays.loc[(flightdelays['Carrier']==\"UA\") & (flightdelays['Delayed30']=='Yes'),'Delay']\n",
    "\n",
    "# obter rankings (decimal)\n",
    "data_rank_pct = ua_delayed30_delays.rank(pct= True)\n",
    "\n",
    "# obter quantis teóricos correspondentes ao ranking decimal\n",
    "quantis_teoricos = norm.ppf(data_rank_pct)\n",
    "\n",
    "# Padronizar os valores reais (z-scores)\n",
    "quantis_reais = stats.zscore(ua_delayed30_delays)\n",
    "\n",
    "# arrumar os dados como dataframe\n",
    "qq_data = pd.DataFrame({'real':quantis_reais,'teorico':quantis_teoricos})\n",
    "\n",
    "# temática do gráfico\n",
    "sns.set_theme(style=\"darkgrid\")\n",
    "\n",
    "# plotar pares real x teorico\n",
    "sns.jointplot(x= \"teorico\", \n",
    "              y= \"real\",\n",
    "              data= qq_data, \n",
    "              kind= \"scatter\",\n",
    "              marginal_kws= dict(kde= True))\n",
    "                  \n",
    "# plotar linha de referência (z-score teorico)\n",
    "sns.lineplot(data= qq_data, x= 'teorico', y= 'teorico', color= '#9e1316')\n"
   ]
  },
  {
   "cell_type": "markdown",
   "metadata": {},
   "source": [
    "## Empirical cumulative distribution functions\n"
   ]
  },
  {
   "cell_type": "code",
   "execution_count": 22,
   "metadata": {},
   "outputs": [
    {
     "data": {
      "text/plain": [
       "<Axes: ylabel='Proportion'>"
      ]
     },
     "execution_count": 22,
     "metadata": {},
     "output_type": "execute_result"
    },
    {
     "data": {
      "image/png": "[encoded data removed]",
      "text/plain": [
       "<Figure size 800x550 with 1 Axes>"
      ]
     },
     "metadata": {},
     "output_type": "display_data"
    }
   ],
   "source": [
    "import seaborn as sns\n",
    "\n",
    "sns.ecdfplot(data=qq_data)"
   ]
  },
  {
   "cell_type": "markdown",
   "metadata": {},
   "source": [
    "## Scatterplot"
   ]
  },
  {
   "cell_type": "code",
   "execution_count": 23,
   "metadata": {},
   "outputs": [
    {
     "data": {
      "text/plain": [
       "Text(0.5, 0.98, 'Consumo HotWings-Beer por Gênero')"
      ]
     },
     "execution_count": 23,
     "metadata": {},
     "output_type": "execute_result"
    },
    {
     "data": {
      "image/png": "[encoded data removed]",
      "text/plain": [
       "<Figure size 500x500 with 6 Axes>"
      ]
     },
     "metadata": {},
     "output_type": "display_data"
    }
   ],
   "source": [
    "import pandas as pd\n",
    "import seaborn as sns\n",
    "\n",
    "beerwings = pd.read_csv(\"rawdata\\Beerwings.csv\")\n",
    "\n",
    "g = sns.PairGrid(data=beerwings,hue='Gender', vars=['Hotwings','Beer'],  palette=\"mako\")\n",
    "g.map_diag(sns.histplot, kde= True)\n",
    "g.map_upper(sns.scatterplot)\n",
    "g.map_lower(sns.kdeplot, fill=True, alpha = 0.8)\n",
    "g.fig.subplots_adjust(top= 0.9)\n",
    "g.fig.suptitle(\"Consumo HotWings-Beer por Gênero\")"
   ]
  },
  {
   "cell_type": "markdown",
   "metadata": {},
   "source": [
    "## Assimetria e curtose\n"
   ]
  },
  {
   "cell_type": "code",
   "execution_count": 32,
   "metadata": {},
   "outputs": [
    {
     "data": {
      "text/html": [
       "<div>\n",
       "<style scoped>\n",
       "    .dataframe tbody tr th:only-of-type {\n",
       "        vertical-align: middle;\n",
       "    }\n",
       "\n",
       "    .dataframe tbody tr th {\n",
       "        vertical-align: top;\n",
       "    }\n",
       "\n",
       "    .dataframe thead th {\n",
       "        text-align: right;\n",
       "    }\n",
       "</style>\n",
       "<table border=\"1\" class=\"dataframe\">\n",
       "  <thead>\n",
       "    <tr style=\"text-align: right;\">\n",
       "      <th></th>\n",
       "      <th>Name</th>\n",
       "      <th>N</th>\n",
       "      <th>Mean</th>\n",
       "      <th>Median</th>\n",
       "      <th>Variance</th>\n",
       "      <th>SD</th>\n",
       "      <th>SE</th>\n",
       "      <th>95% Conf. Interval</th>\n",
       "      <th>Min</th>\n",
       "      <th>Max</th>\n",
       "      <th>Range</th>\n",
       "      <th>Kurtosis</th>\n",
       "      <th>Skew</th>\n",
       "    </tr>\n",
       "  </thead>\n",
       "  <tbody>\n",
       "    <tr>\n",
       "      <th>0</th>\n",
       "      <td>Days</td>\n",
       "      <td>5386</td>\n",
       "      <td>473.33</td>\n",
       "      <td>418.0</td>\n",
       "      <td>80167.88</td>\n",
       "      <td>283.14</td>\n",
       "      <td>3.86</td>\n",
       "      <td>[465.76, 480.89]</td>\n",
       "      <td>0.0</td>\n",
       "      <td>1095.0</td>\n",
       "      <td>1095.0</td>\n",
       "      <td>2.16</td>\n",
       "      <td>0.46</td>\n",
       "    </tr>\n",
       "  </tbody>\n",
       "</table>\n",
       "</div>"
      ],
      "text/plain": [
       "   Name     N    Mean Median  Variance      SD    SE 95% Conf. Interval  Min  \\\n",
       "0  Days  5386  473.33  418.0  80167.88  283.14  3.86   [465.76, 480.89]  0.0   \n",
       "\n",
       "      Max   Range Kurtosis  Skew  \n",
       "0  1095.0  1095.0     2.16  0.46  "
      ]
     },
     "execution_count": 32,
     "metadata": {},
     "output_type": "execute_result"
    }
   ],
   "source": [
    "rp.summarize(data= recidivism['Days'], stats= [\"N\", \"Mean\", \"Median\", \"Variance\", \"SD\", \"SE\", \"CI\", 'Min', 'Max', 'Range', \"Kurtosis\", \"Skew\"], decimals=2)"
   ]
  },
  {
   "cell_type": "code",
   "execution_count": 49,
   "metadata": {},
   "outputs": [
    {
     "data": {
      "text/plain": [
       "<matplotlib.legend.Legend at 0x1c4b37ea3d0>"
      ]
     },
     "execution_count": 49,
     "metadata": {},
     "output_type": "execute_result"
    },
    {
     "data": {
      "image/png": "[encoded data removed]",
      "text/plain": [
       "<Figure size 700x500 with 1 Axes>"
      ]
     },
     "metadata": {},
     "output_type": "display_data"
    }
   ],
   "source": [
    "import numpy as np\n",
    "sns.set_theme(style=\"whitegrid\")\n",
    "\n",
    "\n",
    "np.random.seed(20240205)\n",
    "# Dados \n",
    "r_days = recidivism['Days']\n",
    "normal = np.random.normal(loc= 473.33, scale= 283.14, size= len(r_days))\n",
    "\n",
    "f, ax = plt.subplots(figsize=(7, 5))\n",
    "sns.despine(f)\n",
    "\n",
    "sns.histplot(data= r_days,\n",
    "             stat= \"density\",\n",
    "             edgecolor=\".3\",\n",
    "             linewidth=.5, \n",
    "             color= '#38b0de')        \n",
    "sns.kdeplot(data=r_days, ax=ax, label = \"Recidivism (days)\")\n",
    "sns.kdeplot(data=normal, color= '#c74f21', linestyle=\"--\", label= \"normal teórico\" )\n",
    "ax.legend()"
   ]
  }
 ],
 "metadata": {
  "kernelspec": {
   "display_name": "Python 3",
   "language": "python",
   "name": "python3"
  },
  "language_info": {
   "codemirror_mode": {
    "name": "ipython",
    "version": 3
   },
   "file_extension": ".py",
   "mimetype": "text/x-python",
   "name": "python",
   "nbconvert_exporter": "python",
   "pygments_lexer": "ipython3",
   "version": "3.11.7"
  }
 },
 "nbformat": 4,
 "nbformat_minor": 2
}
